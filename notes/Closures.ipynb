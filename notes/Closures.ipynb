{
 "cells": [
  {
   "cell_type": "markdown",
   "id": "f2b8813f-89b8-4cb8-922e-6365260ab735",
   "metadata": {},
   "source": [
    "# Closure Notes"
   ]
  },
  {
   "attachments": {},
   "cell_type": "markdown",
   "id": "cbdf9db2-50a1-40d3-9a5d-94602f1368c5",
   "metadata": {},
   "source": [
    "These are notes based on Real Python's [article](https://realpython.com/python-closure/) with motivation to better understand Python [decorators](Decorators.ipynb).\n",
    "\n",
    "A [closure](https://en.wikipedia.org/wiki/Closure_(computer_programming)) also known as a function closure, is a technique to store a function with an environment. The function has local variables mapped to the enclosing scope.\n",
    "\n",
    "In Python, a closure is a nested function where the inner function is returned by the outer function, along with parameter bindings defined in the outer function."
   ]
  },
  {
   "cell_type": "markdown",
   "id": "4829f357-f14c-4d7e-bfd0-7e3af9466ed5",
   "metadata": {},
   "source": [
    "## Background"
   ]
  },
  {
   "cell_type": "markdown",
   "id": "5c818bea-9bd0-49e9-88fd-f5b0e804f76d",
   "metadata": {},
   "source": [
    "### Inner Functions"
   ]
  },
  {
   "cell_type": "markdown",
   "id": "6980f460-e501-4996-b737-21628ebe2af6",
   "metadata": {},
   "source": [
    "This is simply a nested function. Just like in the format of many Elements of Programming Interview Python solutions, nesting functions can control scope:"
   ]
  },
  {
   "cell_type": "code",
   "execution_count": 1,
   "id": "638e26eb-6ade-41ed-b59a-22ba2d67f59a",
   "metadata": {},
   "outputs": [
    {
     "name": "stdout",
     "output_type": "stream",
     "text": [
      "Hello, Jonathan!\n"
     ]
    }
   ],
   "source": [
    "def outer_func():\n",
    "    name = 'Jonathan'\n",
    "    def inner_func():\n",
    "        print(f'Hello, {name}!')\n",
    "    inner_func()\n",
    "\n",
    "outer_func()"
   ]
  },
  {
   "cell_type": "markdown",
   "id": "4bfd3619-1a73-47c5-a1a4-d1aa2658dac1",
   "metadata": {},
   "source": [
    "### Function Closures"
   ]
  },
  {
   "cell_type": "markdown",
   "id": "34e8a4e7-db2f-4dad-8f5b-d1e91303edf6",
   "metadata": {},
   "source": [
    "The defining feature of a function closure separating them from other inner functions is that it **returns the inner function**. The anatomy of a function closure is the following:\n",
    "- outer function defining the scope\n",
    "- variables local to the outer function\n",
    "- inner function defined inside the outer function"
   ]
  },
  {
   "cell_type": "code",
   "execution_count": 2,
   "id": "9f1bdede-a4ed-417a-9c38-a67549ec466b",
   "metadata": {},
   "outputs": [
    {
     "data": {
      "text/plain": [
       "<function __main__.outer_func.<locals>.inner_func()>"
      ]
     },
     "execution_count": 2,
     "metadata": {},
     "output_type": "execute_result"
    }
   ],
   "source": [
    "def outer_func():\n",
    "    name = 'Jonathan'\n",
    "    def inner_func():\n",
    "        print(f'Hello, {name}')\n",
    "    return inner_func\n",
    "\n",
    "outer_func()"
   ]
  },
  {
   "cell_type": "code",
   "execution_count": 4,
   "id": "6ac65970-f322-4f2a-bf72-47f302c0811b",
   "metadata": {},
   "outputs": [
    {
     "name": "stdout",
     "output_type": "stream",
     "text": [
      "Hello, Jonathan\n"
     ]
    }
   ],
   "source": [
    "greeter = outer_func()\n",
    "greeter()"
   ]
  },
  {
   "cell_type": "markdown",
   "id": "ee87cf25-999e-4106-8e00-0f9cbb33d36d",
   "metadata": {},
   "source": [
    "Lambda functions can be used to build closures:"
   ]
  },
  {
   "cell_type": "code",
   "execution_count": 5,
   "id": "064e887a-f91f-47cc-9c6b-328c787381d7",
   "metadata": {},
   "outputs": [
    {
     "name": "stdout",
     "output_type": "stream",
     "text": [
      "Hello, Jonathan!\n"
     ]
    }
   ],
   "source": [
    "def outer_func():\n",
    "    name = 'Jonathan'\n",
    "    return lambda: print(f'Hello, {name}!')\n",
    "\n",
    "greeter = outer_func()\n",
    "greeter()"
   ]
  },
  {
   "cell_type": "markdown",
   "id": "2f080785-c50e-4cb4-8da8-d175e60f45ce",
   "metadata": {},
   "source": [
    "### Captured Variables"
   ]
  },
  {
   "cell_type": "markdown",
   "id": "a6104122-b432-4b79-b1a8-9b2cf61d586b",
   "metadata": {},
   "source": [
    "In this example, the inner function has access to variables that are defined even after itself, demonstrating the subtleties of scope."
   ]
  },
  {
   "cell_type": "code",
   "execution_count": 7,
   "id": "cc0a5970-df52-4907-a277-0f220ec708d8",
   "metadata": {},
   "outputs": [
    {
     "name": "stdout",
     "output_type": "stream",
     "text": [
      "Outer argument\n",
      "Outer local variable\n",
      "Another local variable\n"
     ]
    }
   ],
   "source": [
    "def outer_func(outer_arg):\n",
    "    local_var = 'Outer local variable'\n",
    "    def closure():\n",
    "        print(outer_arg)\n",
    "        print(local_var)\n",
    "        print(another_local_var)\n",
    "    another_local_var = 'Another local variable'\n",
    "    return closure\n",
    "\n",
    "closure = outer_func('Outer argument')\n",
    "closure()"
   ]
  },
  {
   "cell_type": "markdown",
   "id": "fdebbab8-d537-4ad5-8b77-c62bb61f75a9",
   "metadata": {},
   "source": [
    "#### Updating Immutable Objects"
   ]
  },
  {
   "cell_type": "code",
   "execution_count": 14,
   "id": "3232560c-2d46-4391-99d7-f2df35bcabbf",
   "metadata": {},
   "outputs": [
    {
     "data": {
      "text/plain": [
       "1"
      ]
     },
     "execution_count": 14,
     "metadata": {},
     "output_type": "execute_result"
    }
   ],
   "source": [
    "def make_counter():\n",
    "    count = 0\n",
    "    def counter():\n",
    "        nonlocal count # look for a predefined variable instead of a new one\n",
    "        count += 1\n",
    "        return count\n",
    "    return counter\n",
    "\n",
    "counter = make_counter()\n",
    "counter()"
   ]
  },
  {
   "cell_type": "code",
   "execution_count": 15,
   "id": "8b63f5f3-45a4-4287-a977-ffaaa7bad9dd",
   "metadata": {},
   "outputs": [
    {
     "data": {
      "text/plain": [
       "2"
      ]
     },
     "execution_count": 15,
     "metadata": {},
     "output_type": "execute_result"
    }
   ],
   "source": [
    "counter()"
   ]
  },
  {
   "cell_type": "code",
   "execution_count": 16,
   "id": "1e0a0267-b46d-48dc-aac0-993e6c084911",
   "metadata": {},
   "outputs": [
    {
     "data": {
      "text/plain": [
       "3"
      ]
     },
     "execution_count": 16,
     "metadata": {},
     "output_type": "execute_result"
    }
   ],
   "source": [
    "counter()"
   ]
  },
  {
   "cell_type": "markdown",
   "id": "bcab1c42-14a2-4ccd-aa0f-15f3d5c442b0",
   "metadata": {},
   "source": [
    "#### Updating Mutable Objects"
   ]
  },
  {
   "cell_type": "code",
   "execution_count": 18,
   "id": "7c9b928b-81f5-46fe-ad4e-a0315530ff88",
   "metadata": {},
   "outputs": [
    {
     "data": {
      "text/plain": [
       "['First item']"
      ]
     },
     "execution_count": 18,
     "metadata": {},
     "output_type": "execute_result"
    }
   ],
   "source": [
    "def make_appender():\n",
    "    items = []\n",
    "    def appender(new_item):\n",
    "        items.append(new_item)\n",
    "        return items\n",
    "    return appender\n",
    "\n",
    "appender = make_appender()\n",
    "appender('First item')"
   ]
  },
  {
   "cell_type": "code",
   "execution_count": 19,
   "id": "a96ba527-673d-4a2b-b157-8f6e1618cac8",
   "metadata": {},
   "outputs": [
    {
     "data": {
      "text/plain": [
       "['First item', 'Second item']"
      ]
     },
     "execution_count": 19,
     "metadata": {},
     "output_type": "execute_result"
    }
   ],
   "source": [
    "appender('Second item')"
   ]
  },
  {
   "cell_type": "code",
   "execution_count": 20,
   "id": "990a9184-0a74-4387-b5a5-285716c77a05",
   "metadata": {},
   "outputs": [
    {
     "data": {
      "text/plain": [
       "['First item', 'Second item', 'Third item']"
      ]
     },
     "execution_count": 20,
     "metadata": {},
     "output_type": "execute_result"
    }
   ],
   "source": [
    "appender('Third item')"
   ]
  },
  {
   "cell_type": "markdown",
   "id": "97f9e11b-49f1-44f0-a7fa-1bd82e99c5cd",
   "metadata": {},
   "source": [
    "## Creating Closures to Retain State"
   ]
  },
  {
   "cell_type": "markdown",
   "id": "f3146227-7ed6-4ae8-b7e1-5f12e624db18",
   "metadata": {},
   "source": [
    "### Creating Factory Functions"
   ]
  },
  {
   "cell_type": "code",
   "execution_count": 21,
   "id": "55b76d54-142c-44ee-9751-1993b7c6c075",
   "metadata": {},
   "outputs": [
    {
     "data": {
      "text/plain": [
       "6.4807"
      ]
     },
     "execution_count": 21,
     "metadata": {},
     "output_type": "execute_result"
    }
   ],
   "source": [
    "def make_root_calculator(root_degree, precision=2):\n",
    "    def root_calculator(number):\n",
    "        return round(pow(number, 1 / root_degree), precision)\n",
    "    return root_calculator\n",
    "\n",
    "square_root = make_root_calculator(2, 4)\n",
    "\n",
    "square_root(42)"
   ]
  },
  {
   "cell_type": "code",
   "execution_count": 22,
   "id": "91b54e8b-3564-428b-ad35-561f9fc60827",
   "metadata": {},
   "outputs": [
    {
     "data": {
      "text/plain": [
       "3.48"
      ]
     },
     "execution_count": 22,
     "metadata": {},
     "output_type": "execute_result"
    }
   ],
   "source": [
    "cubic_root = make_root_calculator(3)\n",
    "cubic_root(42)"
   ]
  },
  {
   "cell_type": "markdown",
   "id": "806c9ec6-7105-4110-81ae-8a513b91116e",
   "metadata": {},
   "source": [
    "### Building Stateful Function"
   ]
  },
  {
   "cell_type": "code",
   "execution_count": 25,
   "id": "44eaf2ea-c346-4368-a452-f941bcf7a53f",
   "metadata": {},
   "outputs": [
    {
     "data": {
      "text/plain": [
       "12.0"
      ]
     },
     "execution_count": 25,
     "metadata": {},
     "output_type": "execute_result"
    }
   ],
   "source": [
    "def cumulative_average():\n",
    "    data = []\n",
    "    def average(value):\n",
    "        data.append(value)\n",
    "        return sum(data) / len(data)\n",
    "    return average\n",
    "\n",
    "# more efficient implementation\n",
    "def cumulative_average():\n",
    "    total = 0\n",
    "    n = 0\n",
    "    def average(value):\n",
    "        nonlocal total\n",
    "        nonlocal n\n",
    "        n += 1\n",
    "        total += value\n",
    "        return total / n\n",
    "    return average\n",
    "        \n",
    "\n",
    "\n",
    "stream_average = cumulative_average()\n",
    "\n",
    "stream_average(12)"
   ]
  },
  {
   "cell_type": "code",
   "execution_count": 26,
   "id": "03ac006b-e8ee-4864-83e5-62af7e7b82b0",
   "metadata": {},
   "outputs": [
    {
     "data": {
      "text/plain": [
       "12.5"
      ]
     },
     "execution_count": 26,
     "metadata": {},
     "output_type": "execute_result"
    }
   ],
   "source": [
    "stream_average(13)"
   ]
  },
  {
   "cell_type": "code",
   "execution_count": 27,
   "id": "ddb11459-38ef-4cb5-be47-b451868f70e6",
   "metadata": {},
   "outputs": [
    {
     "data": {
      "text/plain": [
       "12.0"
      ]
     },
     "execution_count": 27,
     "metadata": {},
     "output_type": "execute_result"
    }
   ],
   "source": [
    "stream_average(11)"
   ]
  },
  {
   "cell_type": "code",
   "execution_count": 28,
   "id": "75f9d141-3f50-47b4-bd3d-42ef0d1eb17a",
   "metadata": {},
   "outputs": [
    {
     "data": {
      "text/plain": [
       "11.5"
      ]
     },
     "execution_count": 28,
     "metadata": {},
     "output_type": "execute_result"
    }
   ],
   "source": [
    "stream_average(10)"
   ]
  },
  {
   "cell_type": "markdown",
   "id": "b8029533-9414-4f04-b374-5934d070a5d9",
   "metadata": {},
   "source": [
    "### Providing Callback Functions"
   ]
  },
  {
   "cell_type": "markdown",
   "id": "61bf2091-b2ed-4bcb-882e-65ae0302e1f7",
   "metadata": {},
   "source": [
    "The `callback()` function returns a closure object that is passed onto the `command` argument, which takes callable objects without arguments. This is a workaround to pass parameters."
   ]
  },
  {
   "cell_type": "code",
   "execution_count": 29,
   "id": "a55b8a82-3692-4cf9-8f72-6a981658d911",
   "metadata": {},
   "outputs": [],
   "source": [
    "import tkinter as tk\n",
    "\n",
    "app = tk.Tk()\n",
    "app.title('GUI App')\n",
    "app.geometry('320x240')\n",
    "\n",
    "label = tk.Label(\n",
    "    app,\n",
    "    font=('Helvetica', 16, 'bold'),\n",
    ")\n",
    "label.pack()\n",
    "\n",
    "def callback(text):\n",
    "    def closure():\n",
    "        label.config(text=text)\n",
    "        \n",
    "    return closure\n",
    "\n",
    "button = tk.Button(\n",
    "    app,\n",
    "    text='Greet',\n",
    "    command=callback('Hello, World!'),\n",
    ")\n",
    "\n",
    "button.pack()\n",
    "\n",
    "app.mainloop()\n",
    "    "
   ]
  },
  {
   "cell_type": "markdown",
   "id": "b5670fec-32a2-4295-9c84-42ef2f0a3f1c",
   "metadata": {},
   "source": [
    "## Writing Decorators with Closures"
   ]
  },
  {
   "cell_type": "markdown",
   "id": "8143c618-43bb-4daf-8c18-e991f8a13bd2",
   "metadata": {},
   "source": [
    "There are two types of decorators in Python:\n",
    "- function based\n",
    "- class based\n",
    "\n",
    "Here is a simple function based implementation with and without the decorator, and using the syntax:"
   ]
  },
  {
   "cell_type": "code",
   "execution_count": 34,
   "id": "76e4c930-4ebc-4f66-90f9-723b75e524b3",
   "metadata": {},
   "outputs": [
    {
     "name": "stdout",
     "output_type": "stream",
     "text": [
      "Hello, World!\n"
     ]
    }
   ],
   "source": [
    "def greet():\n",
    "    print('Hello, World!')\n",
    "\n",
    "greet()"
   ]
  },
  {
   "cell_type": "code",
   "execution_count": 35,
   "id": "62a53eff-0850-48fa-975b-ce786aa6c406",
   "metadata": {},
   "outputs": [
    {
     "name": "stdout",
     "output_type": "stream",
     "text": [
      "Do something before calling the function.\n",
      "Hello, World!\n",
      "Do something after calling the function.\n"
     ]
    }
   ],
   "source": [
    "def decorator(function):\n",
    "    def closure():\n",
    "        print('Do something before calling the function.')\n",
    "        function()\n",
    "        print('Do something after calling the function.')\n",
    "    return closure\n",
    "\n",
    "def greet():\n",
    "    print('Hello, World!')\n",
    "\n",
    "greet = decorator(greet)\n",
    "greet()"
   ]
  },
  {
   "cell_type": "code",
   "execution_count": 36,
   "id": "75940edd-ac6c-4ffc-9f6e-dcc4ddf1a576",
   "metadata": {},
   "outputs": [
    {
     "name": "stdout",
     "output_type": "stream",
     "text": [
      "Do something before calling the function.\n",
      "Hello, World!\n",
      "Do something after calling the function.\n"
     ]
    }
   ],
   "source": [
    "@decorator\n",
    "def greet():\n",
    "    print('Hello, World!')\n",
    "\n",
    "greet()"
   ]
  },
  {
   "cell_type": "markdown",
   "id": "d0a31cd3-7de5-46e2-b991-ec52ca456556",
   "metadata": {},
   "source": [
    "## Impelementing Memoization with Closures"
   ]
  },
  {
   "cell_type": "code",
   "execution_count": 37,
   "id": "9cafd684-373c-4fe1-8e7c-01b140c0785d",
   "metadata": {},
   "outputs": [],
   "source": [
    "def memoize(function):\n",
    "    cache = {}\n",
    "    def closure(number):\n",
    "        if number not in cache:\n",
    "            cache[number] = function(number)\n",
    "        return cache[number]\n",
    "    return closure"
   ]
  },
  {
   "cell_type": "code",
   "execution_count": 39,
   "id": "d59adf33-f417-498b-87f6-f9e286c1fab3",
   "metadata": {},
   "outputs": [
    {
     "data": {
      "text/plain": [
       "3.0021948000066914"
      ]
     },
     "execution_count": 39,
     "metadata": {},
     "output_type": "execute_result"
    }
   ],
   "source": [
    "from time import sleep\n",
    "from timeit import timeit\n",
    "\n",
    "def slow_operation(number):\n",
    "    sleep(0.5)\n",
    "\n",
    "timeit(\"[slow_operation(number) for number in [2, 3, 4, 2, 3, 4]]\",\n",
    "       globals=globals(),\n",
    "       number=1,\n",
    "      )"
   ]
  },
  {
   "cell_type": "code",
   "execution_count": 40,
   "id": "815b9972-f1ce-4c2a-987c-cbcf43d4ac95",
   "metadata": {},
   "outputs": [
    {
     "data": {
      "text/plain": [
       "1.501583400007803"
      ]
     },
     "execution_count": 40,
     "metadata": {},
     "output_type": "execute_result"
    }
   ],
   "source": [
    "@memoize\n",
    "def slow_operation(number):\n",
    "    sleep(0.5)\n",
    "\n",
    "timeit(\"[slow_operation(number) for number in [2, 3, 4, 2, 3, 4]]\",\n",
    "       globals=globals(),\n",
    "       number=1,\n",
    "      )"
   ]
  },
  {
   "cell_type": "markdown",
   "id": "c223db52-7dfe-4eb1-9fbd-33234931dcac",
   "metadata": {},
   "source": [
    "## Achieving Encapsulation with Closures"
   ]
  },
  {
   "cell_type": "markdown",
   "id": "4b993792-6301-45e9-a13a-f213dc81fb68",
   "metadata": {},
   "source": [
    "#### Private Methods by Naming Convention"
   ]
  },
  {
   "cell_type": "code",
   "execution_count": 41,
   "id": "064d5215-cb46-443f-9ec1-5e26a006b0a0",
   "metadata": {},
   "outputs": [
    {
     "data": {
      "text/plain": [
       "3"
      ]
     },
     "execution_count": 41,
     "metadata": {},
     "output_type": "execute_result"
    }
   ],
   "source": [
    "class Stack:\n",
    "    def __init__(self):\n",
    "        self._items = []\n",
    "\n",
    "    def push(self, item):\n",
    "        self._items.append(item)\n",
    "\n",
    "    def pop(self):\n",
    "        return self._items.pop()\n",
    "\n",
    "stack = Stack()\n",
    "stack.push(1)\n",
    "stack.push(2)\n",
    "stack.push(3)\n",
    "\n",
    "stack.pop()"
   ]
  },
  {
   "cell_type": "code",
   "execution_count": 42,
   "id": "e2cde4e7-d423-4896-a177-4292a35cd1e7",
   "metadata": {},
   "outputs": [
    {
     "data": {
      "text/plain": [
       "[1, 2]"
      ]
     },
     "execution_count": 42,
     "metadata": {},
     "output_type": "execute_result"
    }
   ],
   "source": [
    "stack._items"
   ]
  },
  {
   "cell_type": "markdown",
   "id": "9b772ef5-271a-49b6-8366-2e21bd9808d0",
   "metadata": {},
   "source": [
    "#### Private Methods by Closures"
   ]
  },
  {
   "cell_type": "code",
   "execution_count": 43,
   "id": "8eb1c594-c07e-4227-9907-69b50c0541d2",
   "metadata": {},
   "outputs": [
    {
     "data": {
      "text/plain": [
       "3"
      ]
     },
     "execution_count": 43,
     "metadata": {},
     "output_type": "execute_result"
    }
   ],
   "source": [
    "def Stack():\n",
    "    _items = []\n",
    "\n",
    "    def push(item):\n",
    "        _items.append(item)\n",
    "\n",
    "    def pop():\n",
    "        return _items.pop()\n",
    "\n",
    "    def closure():\n",
    "        pass\n",
    "\n",
    "    closure.push = push\n",
    "    closure.pop = pop\n",
    "    return closure\n",
    "\n",
    "stack = Stack()\n",
    "stack.push(1)\n",
    "stack.push(2)\n",
    "stack.push(3)\n",
    "\n",
    "stack.pop()"
   ]
  },
  {
   "cell_type": "code",
   "execution_count": 44,
   "id": "d4e9dff2-1920-4bb0-8278-cda58dca4f9c",
   "metadata": {},
   "outputs": [
    {
     "ename": "AttributeError",
     "evalue": "'function' object has no attribute '_items'",
     "output_type": "error",
     "traceback": [
      "\u001b[31m---------------------------------------------------------------------------\u001b[39m",
      "\u001b[31mAttributeError\u001b[39m                            Traceback (most recent call last)",
      "\u001b[36mCell\u001b[39m\u001b[36m \u001b[39m\u001b[32mIn[44]\u001b[39m\u001b[32m, line 1\u001b[39m\n\u001b[32m----> \u001b[39m\u001b[32m1\u001b[39m \u001b[43mstack\u001b[49m\u001b[43m.\u001b[49m\u001b[43m_items\u001b[49m\n",
      "\u001b[31mAttributeError\u001b[39m: 'function' object has no attribute '_items'"
     ]
    }
   ],
   "source": [
    "stack._items"
   ]
  },
  {
   "cell_type": "code",
   "execution_count": 45,
   "id": "66199ec0-39a6-4faf-b712-b6e05e4dad61",
   "metadata": {},
   "outputs": [
    {
     "data": {
      "text/plain": [
       "<function __main__.Stack.<locals>.closure()>"
      ]
     },
     "execution_count": 45,
     "metadata": {},
     "output_type": "execute_result"
    }
   ],
   "source": [
    "stack"
   ]
  },
  {
   "cell_type": "markdown",
   "id": "dfd3c1c9-17ee-4683-8c13-e5766ba2e5b1",
   "metadata": {},
   "source": [
    "## Exploring Alternatives to Closures"
   ]
  },
  {
   "cell_type": "markdown",
   "id": "a16ddc8d-4b87-4d1c-ac23-3c4c69daed3a",
   "metadata": {},
   "source": [
    "Instead of closures, which can be difficult to reason about, we can use classes with the `__call__()` method:"
   ]
  },
  {
   "cell_type": "code",
   "execution_count": 46,
   "id": "1100a497-9965-436f-9c24-3fab56b106a9",
   "metadata": {},
   "outputs": [
    {
     "data": {
      "text/plain": [
       "6.4807"
      ]
     },
     "execution_count": 46,
     "metadata": {},
     "output_type": "execute_result"
    }
   ],
   "source": [
    "def make_root_calculator(root_degree, precision=2):\n",
    "    def root_calculator(number):\n",
    "        return round(pow(number, 1 / root_degree), precision)\n",
    "    return root_calculator\n",
    "\n",
    "\n",
    "square_root = make_root_calculator(2, 4)\n",
    "square_root(42)"
   ]
  },
  {
   "cell_type": "code",
   "execution_count": 47,
   "id": "83ebc308-60a1-4285-8b61-e9f2a62ff025",
   "metadata": {},
   "outputs": [
    {
     "data": {
      "text/plain": [
       "6.4807"
      ]
     },
     "execution_count": 47,
     "metadata": {},
     "output_type": "execute_result"
    }
   ],
   "source": [
    "class RootCalculator:\n",
    "    def __init__(self, root_degree, precision=2):\n",
    "        self.root_degree = root_degree\n",
    "        self.precision = precision\n",
    "\n",
    "    def __call__(self, number):\n",
    "        return round(pow(number, 1 / self.root_degree), self.precision)\n",
    "\n",
    "square_root = RootCalculator(2, 4)\n",
    "square_root(42)"
   ]
  },
  {
   "cell_type": "code",
   "execution_count": 48,
   "id": "bee271a6-19fd-4b7e-95ab-1e865909f07e",
   "metadata": {},
   "outputs": [
    {
     "data": {
      "text/plain": [
       "3.48"
      ]
     },
     "execution_count": 48,
     "metadata": {},
     "output_type": "execute_result"
    }
   ],
   "source": [
    "cubic_root = RootCalculator(3)\n",
    "cubic_root(42)"
   ]
  },
  {
   "cell_type": "code",
   "execution_count": null,
   "id": "1c79dfd5-220b-4e8f-bbd3-fbfca62def4d",
   "metadata": {},
   "outputs": [],
   "source": []
  }
 ],
 "metadata": {
  "kernelspec": {
   "display_name": "Python 3 (ipykernel)",
   "language": "python",
   "name": "python3"
  },
  "language_info": {
   "codemirror_mode": {
    "name": "ipython",
    "version": 3
   },
   "file_extension": ".py",
   "mimetype": "text/x-python",
   "name": "python",
   "nbconvert_exporter": "python",
   "pygments_lexer": "ipython3",
   "version": "3.13.5"
  }
 },
 "nbformat": 4,
 "nbformat_minor": 5
}
