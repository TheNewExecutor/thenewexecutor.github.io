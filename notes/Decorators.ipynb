{
 "cells": [
  {
   "cell_type": "markdown",
   "metadata": {},
   "source": [
    "# Decorator Notes"
   ]
  },
  {
   "cell_type": "markdown",
   "metadata": {},
   "source": [
    "These are notes based on Real Python's [primer](https://realpython.com/primer-on-python-decorators/#functions)."
   ]
  },
  {
   "cell_type": "markdown",
   "metadata": {},
   "source": [
    "## Simple Decorators"
   ]
  },
  {
   "cell_type": "markdown",
   "metadata": {},
   "source": [
    "### Returning Functions"
   ]
  },
  {
   "cell_type": "code",
   "execution_count": 1,
   "metadata": {},
   "outputs": [],
   "source": [
    "def parent(num):\n",
    "    def first_child():\n",
    "        return \"Hi, I am Emma\"\n",
    "\n",
    "    def second_child():\n",
    "        return \"Call me Liam\"\n",
    "\n",
    "    if num == 1:\n",
    "        return first_child\n",
    "    else:\n",
    "        return second_child"
   ]
  },
  {
   "cell_type": "code",
   "execution_count": 2,
   "metadata": {},
   "outputs": [
    {
     "data": {
      "text/plain": [
       "<function __main__.parent.<locals>.second_child()>"
      ]
     },
     "execution_count": 2,
     "metadata": {},
     "output_type": "execute_result"
    }
   ],
   "source": [
    "parent(2)"
   ]
  },
  {
   "cell_type": "markdown",
   "metadata": {},
   "source": [
    "### Simple Decorators with Syntactic Sugar"
   ]
  },
  {
   "cell_type": "code",
   "execution_count": 3,
   "metadata": {},
   "outputs": [],
   "source": [
    "def my_decorator(func):\n",
    "    def wrapper():\n",
    "        print(\"Something is happening before the function is called.\")\n",
    "        func()\n",
    "        print(\"Something is happening after the function is called.\")\n",
    "    return wrapper\n",
    "\n",
    "def say_whee():\n",
    "    print(\"Whee!\")\n",
    "\n",
    "say_whee = my_decorator(say_whee)"
   ]
  },
  {
   "cell_type": "code",
   "execution_count": 4,
   "metadata": {},
   "outputs": [
    {
     "name": "stdout",
     "output_type": "stream",
     "text": [
      "Something is happening before the function is called.\n",
      "Whee!\n",
      "Something is happening after the function is called.\n"
     ]
    }
   ],
   "source": [
    "say_whee()"
   ]
  },
  {
   "cell_type": "markdown",
   "metadata": {},
   "source": [
    "Now with syntactic sugar:"
   ]
  },
  {
   "cell_type": "code",
   "execution_count": 5,
   "metadata": {},
   "outputs": [],
   "source": [
    "def my_decorator(func):\n",
    "    def wrapper():\n",
    "        print(\"Something is happening before the function is called.\")\n",
    "        func()\n",
    "        print(\"Something is happening after the function is called.\")\n",
    "    return wrapper\n",
    "\n",
    "@my_decorator\n",
    "def say_whee():\n",
    "    print(\"Whee!\")"
   ]
  },
  {
   "cell_type": "code",
   "execution_count": 6,
   "metadata": {},
   "outputs": [
    {
     "name": "stdout",
     "output_type": "stream",
     "text": [
      "Something is happening before the function is called.\n",
      "Whee!\n",
      "Something is happening after the function is called.\n"
     ]
    }
   ],
   "source": [
    "say_whee()"
   ]
  },
  {
   "cell_type": "markdown",
   "metadata": {},
   "source": [
    "### Decorating Functions with Arguments"
   ]
  },
  {
   "cell_type": "markdown",
   "metadata": {},
   "source": [
    "Decorating simple functions is easy enough, but what happens when decorated function takes in arguments? The second function `greet()` is incompatible with the decorator, `do_twice` since the inner function does not take any arguments."
   ]
  },
  {
   "cell_type": "code",
   "execution_count": 17,
   "metadata": {},
   "outputs": [
    {
     "name": "stdout",
     "output_type": "stream",
     "text": [
      "Whee!\n",
      "Whee!\n"
     ]
    }
   ],
   "source": [
    "def do_twice(func):\n",
    "    def wrapper_do_twice():\n",
    "        func()\n",
    "        func()\n",
    "    return wrapper_do_twice\n",
    "\n",
    "@do_twice\n",
    "def say_whee():\n",
    "    print('Whee!')\n",
    "\n",
    "@do_twice\n",
    "def greet(name: str):\n",
    "    print(f'Hello {name}!')\n",
    "\n",
    "say_whee()"
   ]
  },
  {
   "cell_type": "code",
   "execution_count": 18,
   "metadata": {},
   "outputs": [
    {
     "ename": "TypeError",
     "evalue": "do_twice.<locals>.wrapper_do_twice() takes 0 positional arguments but 1 was given",
     "output_type": "error",
     "traceback": [
      "\u001b[31m---------------------------------------------------------------------------\u001b[39m",
      "\u001b[31mTypeError\u001b[39m                                 Traceback (most recent call last)",
      "\u001b[36mCell\u001b[39m\u001b[36m \u001b[39m\u001b[32mIn[18]\u001b[39m\u001b[32m, line 1\u001b[39m\n\u001b[32m----> \u001b[39m\u001b[32m1\u001b[39m \u001b[43mgreet\u001b[49m\u001b[43m(\u001b[49m\u001b[33;43m'\u001b[39;49m\u001b[33;43mJonathan\u001b[39;49m\u001b[33;43m'\u001b[39;49m\u001b[43m)\u001b[49m\n",
      "\u001b[31mTypeError\u001b[39m: do_twice.<locals>.wrapper_do_twice() takes 0 positional arguments but 1 was given"
     ]
    }
   ],
   "source": [
    "greet('Jonathan')"
   ]
  },
  {
   "cell_type": "markdown",
   "metadata": {},
   "source": [
    "Instead, we can add arguments to our decorator to handle any potential parameters using `*args, **kwargs**`:"
   ]
  },
  {
   "cell_type": "code",
   "execution_count": 33,
   "metadata": {},
   "outputs": [],
   "source": [
    "def do_twice(func):\n",
    "    def wrapper_do_twice(*args, **kwargs):\n",
    "        func(*args, **kwargs)\n",
    "        func(*args, **kwargs)\n",
    "    return wrapper_do_twice\n",
    "\n",
    "@do_twice\n",
    "def say_whee():\n",
    "    print(\"Whee!\")\n",
    "    \n",
    "@do_twice\n",
    "def greet(name):\n",
    "    print(f\"Hello {name}\")"
   ]
  },
  {
   "cell_type": "code",
   "execution_count": 34,
   "metadata": {},
   "outputs": [
    {
     "name": "stdout",
     "output_type": "stream",
     "text": [
      "Whee!\n",
      "Whee!\n"
     ]
    }
   ],
   "source": [
    "say_whee()"
   ]
  },
  {
   "cell_type": "code",
   "execution_count": 35,
   "metadata": {
    "scrolled": true
   },
   "outputs": [
    {
     "name": "stdout",
     "output_type": "stream",
     "text": [
      "Hello Jonathan\n",
      "Hello Jonathan\n"
     ]
    }
   ],
   "source": [
    "greet('Jonathan')"
   ]
  },
  {
   "cell_type": "markdown",
   "metadata": {},
   "source": [
    "### Decorating Functions with Return Values"
   ]
  },
  {
   "cell_type": "markdown",
   "metadata": {},
   "source": [
    "For functions that return values, we must make sure the decorator's inner function also returns a value. If not, like in the case of the `do_twice` decorator's current form, the decorated function's return value will get lost: "
   ]
  },
  {
   "cell_type": "code",
   "execution_count": 37,
   "metadata": {},
   "outputs": [
    {
     "name": "stdout",
     "output_type": "stream",
     "text": [
      "Creating greeting\n",
      "Creating greeting\n"
     ]
    }
   ],
   "source": [
    "@do_twice\n",
    "def return_greeting(name: str):\n",
    "    print('Creating greeting')\n",
    "    return f'Hi {name}!'\n",
    "\n",
    "hi_jonathan = return_greeting('Jonathan')"
   ]
  },
  {
   "cell_type": "code",
   "execution_count": 39,
   "metadata": {},
   "outputs": [
    {
     "name": "stdout",
     "output_type": "stream",
     "text": [
      "None\n"
     ]
    }
   ],
   "source": [
    "print(hi_jonathan)"
   ]
  },
  {
   "cell_type": "code",
   "execution_count": 30,
   "metadata": {},
   "outputs": [
    {
     "name": "stdout",
     "output_type": "stream",
     "text": [
      "Creating greeting\n",
      "Creating greeting\n"
     ]
    }
   ],
   "source": [
    "def do_twice(func):\n",
    "    def do_twice_wrapper(*args, **kwargs):\n",
    "       func(*args, **kwargs)\n",
    "       return func(*args, **kwargs)\n",
    "    return do_twice_wrapper\n",
    "\n",
    "@do_twice\n",
    "def return_greeting(name: str):\n",
    "    print('Creating greeting')\n",
    "    return f'Hi {name}!'\n",
    "\n",
    "hi_jonathan = return_greeting('Jonathan')"
   ]
  },
  {
   "cell_type": "code",
   "execution_count": 31,
   "metadata": {},
   "outputs": [
    {
     "name": "stdout",
     "output_type": "stream",
     "text": [
      "Hi Jonathan!\n"
     ]
    }
   ],
   "source": [
    "print(hi_jonathan)"
   ]
  },
  {
   "cell_type": "markdown",
   "metadata": {},
   "source": [
    "### Introspection "
   ]
  },
  {
   "cell_type": "markdown",
   "metadata": {},
   "source": [
    "Python functions have built-in documentation. Decorated ones simply show themselves as the inner function of the wrapper. To get the original, useful documenation of a decorated function, the decorator must have `@functools.wraps(func)` above its inner function definition:"
   ]
  },
  {
   "cell_type": "code",
   "execution_count": 40,
   "metadata": {},
   "outputs": [
    {
     "data": {
      "text/plain": [
       "<function print(*args, sep=' ', end='\\n', file=None, flush=False)>"
      ]
     },
     "execution_count": 40,
     "metadata": {},
     "output_type": "execute_result"
    }
   ],
   "source": [
    "print"
   ]
  },
  {
   "cell_type": "code",
   "execution_count": 20,
   "metadata": {},
   "outputs": [
    {
     "data": {
      "text/plain": [
       "'print'"
      ]
     },
     "execution_count": 20,
     "metadata": {},
     "output_type": "execute_result"
    }
   ],
   "source": [
    "print.__name__"
   ]
  },
  {
   "cell_type": "code",
   "execution_count": 21,
   "metadata": {
    "scrolled": true
   },
   "outputs": [
    {
     "name": "stdout",
     "output_type": "stream",
     "text": [
      "Help on built-in function print in module builtins:\n",
      "\n",
      "print(...)\n",
      "    print(value, ..., sep=' ', end='\\n', file=sys.stdout, flush=False)\n",
      "    \n",
      "    Prints the values to a stream, or to sys.stdout by default.\n",
      "    Optional keyword arguments:\n",
      "    file:  a file-like object (stream); defaults to the current sys.stdout.\n",
      "    sep:   string inserted between values, default a space.\n",
      "    end:   string appended after the last value, default a newline.\n",
      "    flush: whether to forcibly flush the stream.\n",
      "\n"
     ]
    }
   ],
   "source": [
    "help(print)"
   ]
  },
  {
   "cell_type": "code",
   "execution_count": 22,
   "metadata": {},
   "outputs": [
    {
     "data": {
      "text/plain": [
       "<function __main__.do_twice.<locals>.wrapper_do_twice(*args, **kwargs)>"
      ]
     },
     "execution_count": 22,
     "metadata": {},
     "output_type": "execute_result"
    }
   ],
   "source": [
    "say_whee"
   ]
  },
  {
   "cell_type": "code",
   "execution_count": 23,
   "metadata": {},
   "outputs": [
    {
     "data": {
      "text/plain": [
       "'wrapper_do_twice'"
      ]
     },
     "execution_count": 23,
     "metadata": {},
     "output_type": "execute_result"
    }
   ],
   "source": [
    "say_whee.__name__"
   ]
  },
  {
   "cell_type": "code",
   "execution_count": 24,
   "metadata": {},
   "outputs": [
    {
     "name": "stdout",
     "output_type": "stream",
     "text": [
      "Help on function wrapper_do_twice in module __main__:\n",
      "\n",
      "wrapper_do_twice(*args, **kwargs)\n",
      "\n"
     ]
    }
   ],
   "source": [
    "help(say_whee)"
   ]
  },
  {
   "cell_type": "code",
   "execution_count": 31,
   "metadata": {},
   "outputs": [],
   "source": [
    "from functools import wraps\n",
    "\n",
    "def do_twice(func):\n",
    "    @wraps(func)\n",
    "    def wrapper_do_twice(*args, **kwargs):\n",
    "        func(*args, **kwargs)\n",
    "        return func(*args, **kwargs)\n",
    "    return wrapper_do_twice\n",
    "\n",
    "@do_twice\n",
    "def say_whee():\n",
    "    print(\"Whee!\")\n"
   ]
  },
  {
   "cell_type": "code",
   "execution_count": 32,
   "metadata": {},
   "outputs": [
    {
     "data": {
      "text/plain": [
       "<function __main__.say_whee()>"
      ]
     },
     "execution_count": 32,
     "metadata": {},
     "output_type": "execute_result"
    }
   ],
   "source": [
    "say_whee"
   ]
  },
  {
   "cell_type": "code",
   "execution_count": 33,
   "metadata": {},
   "outputs": [
    {
     "data": {
      "text/plain": [
       "'say_whee'"
      ]
     },
     "execution_count": 33,
     "metadata": {},
     "output_type": "execute_result"
    }
   ],
   "source": [
    "say_whee.__name__"
   ]
  },
  {
   "cell_type": "code",
   "execution_count": 34,
   "metadata": {},
   "outputs": [
    {
     "name": "stdout",
     "output_type": "stream",
     "text": [
      "Help on function say_whee in module __main__:\n",
      "\n",
      "say_whee()\n",
      "\n"
     ]
    }
   ],
   "source": [
    "help(say_whee)"
   ]
  },
  {
   "cell_type": "code",
   "execution_count": null,
   "metadata": {},
   "outputs": [],
   "source": [
    "hasattr()"
   ]
  },
  {
   "cell_type": "markdown",
   "metadata": {},
   "source": [
    "## Decorator Real World Examples"
   ]
  },
  {
   "cell_type": "markdown",
   "metadata": {},
   "source": [
    "The pattern for many decorators will take this form:"
   ]
  },
  {
   "cell_type": "code",
   "execution_count": 41,
   "metadata": {},
   "outputs": [],
   "source": [
    "import functools\n",
    "\n",
    "def decorator(func):\n",
    "    @functools.wrap(func)\n",
    "    def wrapper_decorator(*args, **kwargs):\n",
    "        # Do something before\n",
    "        value = func(*args, **kwargs)\n",
    "        # Do something after\n",
    "        return value\n",
    "    return wrapper_decorator"
   ]
  },
  {
   "cell_type": "markdown",
   "metadata": {},
   "source": [
    "### Timing Functions"
   ]
  },
  {
   "cell_type": "code",
   "execution_count": 45,
   "metadata": {},
   "outputs": [],
   "source": [
    "import functools\n",
    "import time\n",
    "\n",
    "def timer(func):\n",
    "    \"\"\"Print the runtime of the decorated function\"\"\"\n",
    "    @functools.wraps(func)\n",
    "    def wrapper_timer(*args, **kwargs):\n",
    "        start = time.perf_counter()\n",
    "        value = func(*args, **kwargs)\n",
    "        end = time.perf_counter()\n",
    "        runtime = end - start\n",
    "        print(f\"Finished {func.__name__}() in {runtime:.4f} secs\")\n",
    "        return value\n",
    "    return wrapper_timer"
   ]
  },
  {
   "cell_type": "code",
   "execution_count": 47,
   "metadata": {},
   "outputs": [
    {
     "name": "stdout",
     "output_type": "stream",
     "text": [
      "Finished waste_some_time() in 0.0021 secs\n"
     ]
    }
   ],
   "source": [
    "@timer\n",
    "def waste_some_time(num_times: int):\n",
    "    for _ in range(num_times):\n",
    "        sum([number**2 for number in range(10_000)])\n",
    "\n",
    "waste_some_time(1)\n",
    "        "
   ]
  },
  {
   "cell_type": "code",
   "execution_count": 48,
   "metadata": {},
   "outputs": [
    {
     "name": "stdout",
     "output_type": "stream",
     "text": [
      "Finished waste_some_time() in 1.1273 secs\n"
     ]
    }
   ],
   "source": [
    "waste_some_time(999)"
   ]
  },
  {
   "cell_type": "markdown",
   "metadata": {},
   "source": [
    "### Debugging Code"
   ]
  },
  {
   "cell_type": "markdown",
   "metadata": {},
   "source": [
    "We can take advantage of the namespace access in the wrapped function to display parameters and return values for debugging:"
   ]
  },
  {
   "cell_type": "code",
   "execution_count": 52,
   "metadata": {
    "scrolled": true
   },
   "outputs": [
    {
     "name": "stdout",
     "output_type": "stream",
     "text": [
      "Calling make_greeting('Benjamin')\n",
      "make_greeting() returned 'Howdy Benjamin!'\n"
     ]
    },
    {
     "data": {
      "text/plain": [
       "'Howdy Benjamin!'"
      ]
     },
     "execution_count": 52,
     "metadata": {},
     "output_type": "execute_result"
    }
   ],
   "source": [
    "import functools\n",
    "\n",
    "def debug(func):\n",
    "    \"\"\"Print the function signature and return value\"\"\"\n",
    "    @functools.wraps(func)\n",
    "    def wrapper_debug(*args, **kwargs):\n",
    "        args_repr = [repr(a) for a in args]\n",
    "        kwargs_repr = [f\"{k}={repr(v)}\" for k, v in kwargs.items()]\n",
    "        signature = \", \".join(args_repr + kwargs_repr)\n",
    "        print(f\"Calling {func.__name__}({signature})\")\n",
    "        value = func(*args, **kwargs)\n",
    "        print(f\"{func.__name__}() returned {repr(value)}\")\n",
    "        return value\n",
    "    return wrapper_debug\n",
    "\n",
    "@debug\n",
    "def make_greeting(name: str, age: int=None):\n",
    "    if age is None:\n",
    "        return f\"Howdy {name}!\"\n",
    "    else:\n",
    "        return f\"Whoa {name}! {age} already?! You're growing up!\"\n",
    "\n",
    "make_greeting(\"Benjamin\")"
   ]
  },
  {
   "cell_type": "code",
   "execution_count": 53,
   "metadata": {},
   "outputs": [
    {
     "name": "stdout",
     "output_type": "stream",
     "text": [
      "Calling make_greeting('Juan', age=114)\n",
      "make_greeting() returned \"Whoa Juan! 114 already?! You're growing up!\"\n"
     ]
    },
    {
     "data": {
      "text/plain": [
       "\"Whoa Juan! 114 already?! You're growing up!\""
      ]
     },
     "execution_count": 53,
     "metadata": {},
     "output_type": "execute_result"
    }
   ],
   "source": [
    "make_greeting(\"Juan\", age=114)"
   ]
  },
  {
   "cell_type": "markdown",
   "metadata": {},
   "source": [
    "This is more impactful when used on small inconvenience functions not called directly:"
   ]
  },
  {
   "cell_type": "code",
   "execution_count": 54,
   "metadata": {},
   "outputs": [
    {
     "name": "stdout",
     "output_type": "stream",
     "text": [
      "Calling factorial(0)\n",
      "factorial() returned 1\n",
      "Calling factorial(1)\n",
      "factorial() returned 1\n",
      "Calling factorial(2)\n",
      "factorial() returned 2\n",
      "Calling factorial(3)\n",
      "factorial() returned 6\n",
      "Calling factorial(4)\n",
      "factorial() returned 24\n"
     ]
    },
    {
     "data": {
      "text/plain": [
       "2.7083333333333335"
      ]
     },
     "execution_count": 54,
     "metadata": {},
     "output_type": "execute_result"
    }
   ],
   "source": [
    "import math\n",
    "\n",
    "math.factorial = debug(math.factorial)\n",
    "\n",
    "def approximate_e(terms=18):\n",
    "    return sum(1 / math.factorial(n) for n in range(terms))\n",
    "\n",
    "approximate_e(terms=5)"
   ]
  },
  {
   "cell_type": "markdown",
   "metadata": {},
   "source": [
    "### Slowing Down Code"
   ]
  },
  {
   "cell_type": "markdown",
   "metadata": {},
   "source": [
    "Sometimes, it's useful to slow down code for the purposes of rate limiting, which can be achieved by a decorator:"
   ]
  },
  {
   "cell_type": "code",
   "execution_count": 55,
   "metadata": {
    "scrolled": true
   },
   "outputs": [
    {
     "name": "stdout",
     "output_type": "stream",
     "text": [
      "3\n",
      "2\n",
      "1\n",
      "Liftoff!\n"
     ]
    }
   ],
   "source": [
    "import functools\n",
    "import time\n",
    "\n",
    "def slow_down(func):\n",
    "    @functools.wraps(func)\n",
    "    def wrapper_slow_down(*args, **kwargs):\n",
    "        time.sleep(1)\n",
    "        return func(*args, **kwargs)\n",
    "    return wrapper_slow_down\n",
    "\n",
    "@slow_down\n",
    "def countdown(from_number):\n",
    "    if from_number < 1:\n",
    "        print(\"Liftoff!\")\n",
    "    else:\n",
    "        print(from_number)\n",
    "        countdown(from_number - 1)\n",
    "\n",
    "countdown(3)"
   ]
  },
  {
   "cell_type": "markdown",
   "metadata": {},
   "source": [
    "### Registering Plugins"
   ]
  },
  {
   "cell_type": "markdown",
   "metadata": {},
   "source": [
    "Here we use a decorator to leave functions unmodified, but record them in a dictionary. This is a list separate from `globals()`:"
   ]
  },
  {
   "cell_type": "code",
   "execution_count": 56,
   "metadata": {},
   "outputs": [
    {
     "data": {
      "text/plain": [
       "{'say_hello': <function __main__.say_hello(name: str)>,\n",
       " 'be_awesome': <function __main__.be_awesome(name: str)>}"
      ]
     },
     "execution_count": 56,
     "metadata": {},
     "output_type": "execute_result"
    }
   ],
   "source": [
    "PLUGINS = dict()\n",
    "\n",
    "def register(func):\n",
    "    \"\"\"Register a funciton as a plug-in\"\"\"\n",
    "    PLUGINS[func.__name__] = func\n",
    "    return func\n",
    "\n",
    "@register\n",
    "def say_hello(name: str):\n",
    "    return f\"Hello {name}\"\n",
    "\n",
    "@register\n",
    "def be_awesome(name: str):\n",
    "    return f\"Yo {name}, together, we're awesome!\"\n",
    "\n",
    "PLUGINS"
   ]
  },
  {
   "cell_type": "code",
   "execution_count": 58,
   "metadata": {},
   "outputs": [
    {
     "data": {
      "text/plain": [
       "\"Yo Jonathan, together, we're awesome!\""
      ]
     },
     "execution_count": 58,
     "metadata": {},
     "output_type": "execute_result"
    }
   ],
   "source": [
    "be_awesome('Jonathan')"
   ]
  },
  {
   "cell_type": "markdown",
   "metadata": {},
   "source": [
    "Here we use the string representation of a Python object using the `!r` flag."
   ]
  },
  {
   "cell_type": "code",
   "execution_count": 59,
   "metadata": {
    "scrolled": true
   },
   "outputs": [
    {
     "name": "stdout",
     "output_type": "stream",
     "text": [
      "Using 'say_hello'\n"
     ]
    },
    {
     "data": {
      "text/plain": [
       "'Hello Alice'"
      ]
     },
     "execution_count": 59,
     "metadata": {},
     "output_type": "execute_result"
    }
   ],
   "source": [
    "import random\n",
    "\n",
    "def randomly_greet(name):\n",
    "    greeter, greeter_func = random.choice(list(PLUGINS.items()))\n",
    "    print(f\"Using {greeter!r}\")\n",
    "    return greeter_func(name)\n",
    "\n",
    "randomly_greet(\"Alice\")"
   ]
  },
  {
   "cell_type": "markdown",
   "metadata": {},
   "source": [
    "### Authenticating Users"
   ]
  },
  {
   "cell_type": "code",
   "execution_count": null,
   "metadata": {},
   "outputs": [],
   "source": [
    "import functools\n",
    "from flask import Flask, g, request, redirect, url_for\n",
    "\n",
    "app = Flask(__name__)\n",
    "\n",
    "def login_required(func):\n",
    "    \"\"\"Make sure user is logged in before proceeding\"\"\"\n",
    "    @functools.wraps(func)\n",
    "    def wrapper_login_required(*args, **kwargs):\n",
    "        if g.user is None:\n",
    "            return redirect(url_for(\"login\", next=request.url))\n",
    "        return func(*args, **kwargs)\n",
    "    return wrapper_login_required\n",
    "\n",
    "@app.route(\"/secret\")\n",
    "@login_required\n",
    "def secret():\n",
    "    ..."
   ]
  },
  {
   "cell_type": "markdown",
   "metadata": {},
   "source": [
    "## Fancy Decorators"
   ]
  },
  {
   "cell_type": "markdown",
   "metadata": {},
   "source": [
    "### Decorating Classes"
   ]
  },
  {
   "cell_type": "markdown",
   "metadata": {},
   "source": [
    "This can be achieved on the individual methods or the entire class itself:"
   ]
  },
  {
   "cell_type": "code",
   "execution_count": 64,
   "metadata": {},
   "outputs": [
    {
     "name": "stdout",
     "output_type": "stream",
     "text": [
      "Calling __init__(<__main__.TimeWaster object at 0x000001D0871DACF0>, 1000)\n",
      "__init__() returned None\n"
     ]
    }
   ],
   "source": [
    "class TimeWaster:\n",
    "    @debug\n",
    "    def __init__(self, max_num: int):\n",
    "        self.max_num = max_num\n",
    "\n",
    "    @timer\n",
    "    def waste_time(self, num_times: int):\n",
    "        for _ in range(num_times):\n",
    "            sum([number**2 for number in range(self.max_num)])\n",
    "\n",
    "tw = TimeWaster(1000)"
   ]
  },
  {
   "cell_type": "code",
   "execution_count": 65,
   "metadata": {},
   "outputs": [
    {
     "name": "stdout",
     "output_type": "stream",
     "text": [
      "Finished waste_time() in 0.1318 secs\n"
     ]
    }
   ],
   "source": [
    "tw.waste_time(999)"
   ]
  },
  {
   "cell_type": "code",
   "execution_count": null,
   "metadata": {},
   "outputs": [],
   "source": [
    "from dataclasses import dataclass\n",
    "\n",
    "@dataclass\n",
    "class PlayingCard:\n",
    "    rank: str\n",
    "    suit: str\n"
   ]
  },
  {
   "cell_type": "markdown",
   "metadata": {},
   "source": [
    "Decorating a class does not decorate its methods:"
   ]
  },
  {
   "cell_type": "code",
   "execution_count": 66,
   "metadata": {},
   "outputs": [
    {
     "name": "stdout",
     "output_type": "stream",
     "text": [
      "Finished TimeWaster() in 0.0000 secs\n"
     ]
    }
   ],
   "source": [
    "@timer\n",
    "class TimeWaster:\n",
    "    def __init__(self, max_num):\n",
    "        self.max_num = max_num\n",
    "\n",
    "    def waste_time(self, num_times):\n",
    "        for _ in range(num_times):\n",
    "            sum([i**2 for i in range(self.max_num)])\n",
    "\n",
    "tw = TimeWaster(1000)"
   ]
  },
  {
   "cell_type": "code",
   "execution_count": 68,
   "metadata": {},
   "outputs": [],
   "source": [
    "tw.waste_time(999)"
   ]
  },
  {
   "cell_type": "markdown",
   "metadata": {},
   "source": [
    "### Nesting Decorators"
   ]
  },
  {
   "cell_type": "code",
   "execution_count": 70,
   "metadata": {},
   "outputs": [
    {
     "name": "stdout",
     "output_type": "stream",
     "text": [
      "Calling wrapper_do_twice('Yadi')\n",
      "Hello Yadi!\n",
      "Hello Yadi!\n",
      "wrapper_do_twice() returned None\n"
     ]
    }
   ],
   "source": [
    "@debug\n",
    "@do_twice\n",
    "def greet(name):\n",
    "    print(f'Hello {name}!')\n",
    "\n",
    "greet('Yadi')"
   ]
  },
  {
   "cell_type": "code",
   "execution_count": 71,
   "metadata": {},
   "outputs": [
    {
     "name": "stdout",
     "output_type": "stream",
     "text": [
      "Calling greet('Yadi')\n",
      "Hello Yadi!\n",
      "greet() returned None\n",
      "Calling greet('Yadi')\n",
      "Hello Yadi!\n",
      "greet() returned None\n"
     ]
    }
   ],
   "source": [
    "@do_twice\n",
    "@debug\n",
    "def greet(name):\n",
    "    print(f'Hello {name}!')\n",
    "\n",
    "greet('Yadi')"
   ]
  },
  {
   "cell_type": "markdown",
   "metadata": {},
   "source": [
    "### Defining Decorators with Arguments"
   ]
  },
  {
   "cell_type": "markdown",
   "metadata": {},
   "source": [
    "We know how to define a decorator on general functions and how to add functionality to the decorated function. To add parameters to a decorator, we apply the same principle and *decorate the decorator*.\n",
    "\n",
    "\n",
    "This adds another layer. The syntactic sugar saves more typing since another layer of nesting requires another function reassignment, from outer to inner."
   ]
  },
  {
   "cell_type": "code",
   "execution_count": 74,
   "metadata": {},
   "outputs": [
    {
     "name": "stdout",
     "output_type": "stream",
     "text": [
      "Hello Jonathan!\n",
      "Hello Jonathan!\n",
      "Hello Jonathan!\n",
      "Hello Jonathan!\n"
     ]
    }
   ],
   "source": [
    "import functools\n",
    "\n",
    "def repeat(num_times: int):\n",
    "    def decorator_repeat(func):\n",
    "        functools.wraps(func)\n",
    "        def wrapper_decorator_repeat(*args, **kwargs):\n",
    "            for _ in range(num_times):\n",
    "                value = func(*args, **kwargs)\n",
    "            return value\n",
    "        return wrapper_decorator_repeat\n",
    "    return decorator_repeat\n",
    "\n",
    "def greet(name: str):\n",
    "    print(f'Hello {name}!')\n",
    "\n",
    "repeat4 = repeat(4)\n",
    "greet = repeat4(greet)\n",
    "greet('Jonathan')"
   ]
  },
  {
   "cell_type": "code",
   "execution_count": 76,
   "metadata": {
    "scrolled": true
   },
   "outputs": [
    {
     "name": "stdout",
     "output_type": "stream",
     "text": [
      "Hello Jonathan!\n",
      "Hello Jonathan!\n",
      "Hello Jonathan!\n",
      "Hello Jonathan!\n"
     ]
    }
   ],
   "source": [
    "@repeat(4)\n",
    "def greet(name: str):\n",
    "    print(f'Hello {name}!')\n",
    "\n",
    "greet('Jonathan')"
   ]
  },
  {
   "cell_type": "markdown",
   "metadata": {},
   "source": [
    "### Creating Decorators with Optional Arguments"
   ]
  },
  {
   "cell_type": "markdown",
   "metadata": {},
   "source": [
    "To modify our decorator to have optional arguments, we must modify the outermost layer in two ways:\n",
    "- to take in arguments with the  * syntax\n",
    "- control flow of optional parameter values \n",
    "\n",
    "\n",
    "This approach wraps the decorator with an outer layer that takes optional arguments, but also allows for a \"skip\" connection to layer below in case parameters are not specified. In this case, the synactic sugar will only take in the first argument, which is the function to be decorated."
   ]
  },
  {
   "cell_type": "code",
   "execution_count": null,
   "metadata": {},
   "outputs": [],
   "source": [
    "def name(_func=None, *, key1=value1, key2=value2, ...):\n",
    "    def decorator_name(func):\n",
    "        ... # Create and return a wrapper function\n",
    "\n",
    "    if _func is None:\n",
    "        return decorator_name\n",
    "    else:\n",
    "        return decorator_name(_func)"
   ]
  },
  {
   "cell_type": "code",
   "execution_count": 78,
   "metadata": {},
   "outputs": [
    {
     "name": "stdout",
     "output_type": "stream",
     "text": [
      "Whee!\n",
      "Whee!\n"
     ]
    }
   ],
   "source": [
    "import functools\n",
    "\n",
    "def repeat(_func=None, *, num_times=2):\n",
    "    def decorator_repeat(func):\n",
    "        @functools.wraps(func)\n",
    "        def wrapper_repeat(*args, **kwargs):\n",
    "            for _ in range(num_times):\n",
    "                value = func(*args, **kwargs)\n",
    "            return value\n",
    "        return wrapper_repeat\n",
    "\n",
    "    if _func is None:\n",
    "        return decorator_repeat\n",
    "    else:\n",
    "        return decorator_repeat(_func)\n",
    "\n",
    "@repeat\n",
    "def say_whee():\n",
    "    print('Whee!')\n",
    "\n",
    "@repeat(num_times=3)\n",
    "def greet(name):\n",
    "    print(f'Hello {name}!')\n",
    "\n",
    "say_whee()"
   ]
  },
  {
   "cell_type": "code",
   "execution_count": 79,
   "metadata": {
    "scrolled": true
   },
   "outputs": [
    {
     "name": "stdout",
     "output_type": "stream",
     "text": [
      "Hello Jonathan!\n",
      "Hello Jonathan!\n",
      "Hello Jonathan!\n"
     ]
    }
   ],
   "source": [
    "greet('Jonathan')"
   ]
  },
  {
   "cell_type": "markdown",
   "metadata": {},
   "source": [
    "### Tracking State in Decorators"
   ]
  },
  {
   "cell_type": "markdown",
   "metadata": {},
   "source": [
    "Here we an use *function attributes* to track a state variable such as a counter"
   ]
  },
  {
   "cell_type": "code",
   "execution_count": null,
   "metadata": {},
   "outputs": [],
   "source": [
    "import functools\n",
    "\n",
    "def count_calls(func):\n",
    "    @functools.wraps(func)\n",
    "    def wrapper_count_calls(*args, **kwargs):\n",
    "        wrapper_count_calls.num_calls += 1\n",
    "        print(f'Call {wrapper_count_calls.num_calls} of {func.__name__}()')\n",
    "        return func(*args, **kwargs)\n",
    "    wrapper_count_calls.num_calls = 0\n",
    "    return wrapper_count_calls\n",
    "    "
   ]
  },
  {
   "cell_type": "markdown",
   "metadata": {},
   "source": [
    "### Using Classes as Decorators"
   ]
  },
  {
   "cell_type": "markdown",
   "metadata": {},
   "source": [
    "If we step back and think about how a closure decorator works, we have the following steps:\n",
    "- if there are decorator parameters, first initialize an \"instance\" with them set \n",
    "- next, rename the function to be modified with its wrapped self: `func = decorator(func)`\n",
    "- finally, call the function as normal with its usual inputs\n",
    "\n",
    "\n",
    "These steps are similar to how a class instance works with a `__init__()` and `__call__()` method.\n",
    "The analogous steps are: \n",
    "- define an `__init__()` that sets the parameters of the decorator, acting as the outermost function in a nested closure\n",
    "- define a `__call__()` method with the structure of a closure\n",
    "    - use `functools.wraps()`  for appropriate introspection\n",
    "    - have the `__call__()` method take in the function as an argument\n",
    "    - define an inner function matching the decorated function's inputs along with additional logic \n",
    "    - return the inner function to finalize the `__call__()` method\n",
    "- for simpler, unparameterized decorating classes, use `functools.update_wrapper()` instead of `functools.wraps()` in the `__init__()` method for proper introspection"
   ]
  },
  {
   "cell_type": "code",
   "execution_count": 80,
   "metadata": {},
   "outputs": [
    {
     "name": "stdout",
     "output_type": "stream",
     "text": [
      "Current count is 1\n"
     ]
    }
   ],
   "source": [
    "class Counter:\n",
    "    def __init__(self, start=0):\n",
    "        self.count = start\n",
    "    def __call__(self):\n",
    "        self.count += 1\n",
    "        print(f\"Current count is {self.count}\")\n",
    "\n",
    "counter = Counter()\n",
    "\n",
    "counter()\n",
    "    "
   ]
  },
  {
   "cell_type": "code",
   "execution_count": 81,
   "metadata": {},
   "outputs": [
    {
     "name": "stdout",
     "output_type": "stream",
     "text": [
      "Current count is 2\n"
     ]
    }
   ],
   "source": [
    "counter()"
   ]
  },
  {
   "cell_type": "markdown",
   "metadata": {},
   "source": [
    "Now, with the modifications to make it a simple decorator without parameters:"
   ]
  },
  {
   "cell_type": "code",
   "execution_count": 82,
   "metadata": {},
   "outputs": [
    {
     "name": "stdout",
     "output_type": "stream",
     "text": [
      "Call 1 of say_whee()\n",
      "Whee!\n"
     ]
    }
   ],
   "source": [
    "import functools\n",
    "class Counter:\n",
    "    def __init__(self, func):\n",
    "        functools.update_wrapper(self, func)\n",
    "        self.func = func\n",
    "        self.num_calls = 0\n",
    "\n",
    "    def __call__(self, *args, **kwargs):\n",
    "        self.num_calls += 1\n",
    "        print(f\"Call {self.num_calls} of {self.func.__name__}()\")\n",
    "        return self.func(*args, **kwargs)\n",
    "\n",
    "@Counter\n",
    "def say_whee():\n",
    "    print('Whee!')\n",
    "\n",
    "\n",
    "say_whee()"
   ]
  },
  {
   "cell_type": "code",
   "execution_count": 83,
   "metadata": {},
   "outputs": [
    {
     "name": "stdout",
     "output_type": "stream",
     "text": [
      "Call 2 of say_whee()\n",
      "Whee!\n"
     ]
    }
   ],
   "source": [
    "say_whee()"
   ]
  },
  {
   "cell_type": "code",
   "execution_count": 84,
   "metadata": {},
   "outputs": [
    {
     "data": {
      "text/plain": [
       "2"
      ]
     },
     "execution_count": 84,
     "metadata": {},
     "output_type": "execute_result"
    }
   ],
   "source": [
    "say_whee.num_calls"
   ]
  },
  {
   "cell_type": "markdown",
   "metadata": {},
   "source": [
    "Finally, we have this example that was generated by Gemini where the `__init__()` sets parameters and the `__call__()` is implemented as a closure with general paramters:"
   ]
  },
  {
   "cell_type": "code",
   "execution_count": 85,
   "metadata": {
    "scrolled": true
   },
   "outputs": [
    {
     "name": "stdout",
     "output_type": "stream",
     "text": [
      "Decorator `FunctionLogger` is being initialized with level: DEBUG\n",
      "Decorator `FunctionLogger` is being initialized with level: WARNING\n",
      "2025-09-25 12:44:26 [WARNING] - Entering 'greet'\n",
      "  > Hello, Jonathan!\n",
      "2025-09-25 12:44:26 [WARNING] - Exiting 'greet'\n"
     ]
    }
   ],
   "source": [
    "import functools\n",
    "from datetime import datetime\n",
    "\n",
    "class FunctionLogger:\n",
    "    \"\"\"\n",
    "    A class-based decorator to log function execution details.\n",
    "    It takes parameters to customize the log output.\n",
    "    \"\"\"\n",
    "    def __init__(self, log_level=\"INFO\", format_str=\"{timestamp} [{level}] - Entering '{func_name}'\"):\n",
    "        \"\"\"\n",
    "        The __init__ method is called when the decorator is instantiated.\n",
    "        It captures the decorator's arguments.\n",
    "        Example: @FunctionLogger(log_level=\"DEBUG\")\n",
    "        \"\"\"\n",
    "        print(f\"Decorator `FunctionLogger` is being initialized with level: {log_level}\")\n",
    "        self.log_level = log_level\n",
    "        self.format_str = format_str\n",
    "\n",
    "    def __call__(self, func):\n",
    "        \"\"\"\n",
    "        The __call__ method is invoked with the decorated function as its argument.\n",
    "        It must return a replacement (wrapper) function.\n",
    "        \"\"\"\n",
    "        @functools.wraps(func)\n",
    "        def wrapper(*args, **kwargs):\n",
    "            \"\"\"\n",
    "            This is the wrapper function that gets executed instead of the original.\n",
    "            It contains the decorator's core logic.\n",
    "            \"\"\"\n",
    "            timestamp = datetime.now().strftime('%Y-%m-%d %H:%M:%S')\n",
    "            \n",
    "            # 1. Logic before the original function is called\n",
    "            log_message = self.format_str.format(\n",
    "                timestamp=timestamp,\n",
    "                level=self.log_level,\n",
    "                func_name=func.__name__\n",
    "            )\n",
    "            print(log_message)\n",
    "            \n",
    "            # 2. Call the original function\n",
    "            result = func(*args, **kwargs)\n",
    "            \n",
    "            # 3. Logic after the original function is called\n",
    "            print(f\"{timestamp} [{self.log_level}] - Exiting '{func.__name__}'\")\n",
    "            \n",
    "            return result\n",
    "            \n",
    "        # The __call__ method returns the wrapper function\n",
    "        return wrapper\n",
    "\n",
    "# --- Example Usage ---\n",
    "\n",
    "@FunctionLogger(log_level=\"DEBUG\", format_str=\"{timestamp} - {level} - Calling `{func_name}`...\")\n",
    "def add(x, y):\n",
    "    \"\"\"This function adds two numbers together.\"\"\"\n",
    "    print(f\"  > Inside add({x}, {y})\")\n",
    "    return x + y\n",
    "\n",
    "@FunctionLogger(log_level=\"WARNING\")\n",
    "def greet(name):\n",
    "    \"\"\"This function greets a person.\"\"\"\n",
    "    print(f\"  > Hello, {name}!\")\n",
    "\n",
    "greet('Jonathan')"
   ]
  },
  {
   "cell_type": "code",
   "execution_count": 86,
   "metadata": {
    "scrolled": true
   },
   "outputs": [
    {
     "name": "stdout",
     "output_type": "stream",
     "text": [
      "2025-09-25 12:45:14 [WARNING] - Entering 'greet'\n",
      "  > Hello, Jonathan!\n",
      "2025-09-25 12:45:14 [WARNING] - Exiting 'greet'\n"
     ]
    }
   ],
   "source": [
    "greet('Jonathan')"
   ]
  },
  {
   "cell_type": "markdown",
   "metadata": {},
   "source": [
    "## More Real World Examples"
   ]
  },
  {
   "cell_type": "markdown",
   "metadata": {},
   "source": [
    "### Slowing Down Code With Optional Parameters"
   ]
  },
  {
   "cell_type": "code",
   "execution_count": 87,
   "metadata": {},
   "outputs": [
    {
     "name": "stdout",
     "output_type": "stream",
     "text": [
      "3\n",
      "2\n",
      "1\n",
      "Liftoff!\n"
     ]
    }
   ],
   "source": [
    "import functools\n",
    "import time\n",
    "\n",
    "def slow_down(_func=None, *, rate=1):\n",
    "    \"\"\"Sleep given amount of seconds before calling the function\"\"\"\n",
    "    def decorator_slow_down(func):\n",
    "        @functools.wraps(func)\n",
    "        def wrapper(*args, **kwargs):\n",
    "            time.sleep(rate)\n",
    "            return func(*args, **kwargs)\n",
    "        return wrapper\n",
    "    if _func is None:\n",
    "        return decorator_slow_down\n",
    "    else:\n",
    "        return decorator_slow_down(_func)\n",
    "        \n",
    "\n",
    "@slow_down(rate=2)\n",
    "def countdown(from_number: int):\n",
    "    if from_number < 1:\n",
    "        print('Liftoff!')\n",
    "    else:\n",
    "        print(from_number)\n",
    "        countdown(from_number - 1)\n",
    "\n",
    "countdown(3)"
   ]
  },
  {
   "cell_type": "markdown",
   "metadata": {},
   "source": [
    "### Creating Singletons"
   ]
  },
  {
   "cell_type": "markdown",
   "metadata": {},
   "source": [
    "Python has a number of singletons, classes with only one instance:\n",
    "- `True`, `False`, `None`\n",
    "\n",
    "This allows for use of `is` to check for equality, or rather, identity. We can use a decorator to store the first instance of a class as a function attribute, enforcing the singleton design pattern:"
   ]
  },
  {
   "cell_type": "code",
   "execution_count": 88,
   "metadata": {},
   "outputs": [
    {
     "data": {
      "text/plain": [
       "1995139107200"
      ]
     },
     "execution_count": 88,
     "metadata": {},
     "output_type": "execute_result"
    }
   ],
   "source": [
    "import functools\n",
    "\n",
    "def singleton(cls):\n",
    "    \"\"\"Make a class a Singleton class\"\"\"\n",
    "    @functools.wraps(cls)\n",
    "    def wrapper_singleton(*args, **kwargs):\n",
    "        if wrapper_singleton.instance is None:\n",
    "            wrapper_singleton.instance = cls(*args, **kwargs)\n",
    "        return wrapper_singleton.instance\n",
    "    wrapper_singleton.instance = None\n",
    "    return wrapper_singleton\n",
    "\n",
    "@singleton\n",
    "class TheOne:\n",
    "    pass\n",
    "\n",
    "first_one = TheOne()\n",
    "\n",
    "another_one = TheOne()\n",
    "id(first_one)"
   ]
  },
  {
   "cell_type": "code",
   "execution_count": 90,
   "metadata": {},
   "outputs": [
    {
     "data": {
      "text/plain": [
       "1995139107200"
      ]
     },
     "execution_count": 90,
     "metadata": {},
     "output_type": "execute_result"
    }
   ],
   "source": [
    "id(another_one)"
   ]
  },
  {
   "cell_type": "code",
   "execution_count": 91,
   "metadata": {},
   "outputs": [
    {
     "data": {
      "text/plain": [
       "True"
      ]
     },
     "execution_count": 91,
     "metadata": {},
     "output_type": "execute_result"
    }
   ],
   "source": [
    "first_one is another_one"
   ]
  },
  {
   "cell_type": "markdown",
   "metadata": {},
   "source": [
    "### Caching Return Values"
   ]
  },
  {
   "cell_type": "code",
   "execution_count": 94,
   "metadata": {
    "scrolled": true
   },
   "outputs": [
    {
     "name": "stdout",
     "output_type": "stream",
     "text": [
      "Call 1 of fibonacci()\n",
      "Call 2 of fibonacci()\n",
      "Call 3 of fibonacci()\n",
      "Call 4 of fibonacci()\n",
      "Call 5 of fibonacci()\n",
      "Call 6 of fibonacci()\n",
      "Call 7 of fibonacci()\n",
      "Call 8 of fibonacci()\n",
      "Call 9 of fibonacci()\n",
      "Call 10 of fibonacci()\n",
      "Call 11 of fibonacci()\n",
      "Call 12 of fibonacci()\n",
      "Call 13 of fibonacci()\n",
      "Call 14 of fibonacci()\n",
      "Call 15 of fibonacci()\n",
      "Call 16 of fibonacci()\n",
      "Call 17 of fibonacci()\n",
      "Call 18 of fibonacci()\n",
      "Call 19 of fibonacci()\n",
      "Call 20 of fibonacci()\n",
      "Call 21 of fibonacci()\n",
      "Call 22 of fibonacci()\n",
      "Call 23 of fibonacci()\n",
      "Call 24 of fibonacci()\n",
      "Call 25 of fibonacci()\n",
      "Call 26 of fibonacci()\n",
      "Call 27 of fibonacci()\n",
      "Call 28 of fibonacci()\n",
      "Call 29 of fibonacci()\n",
      "Call 30 of fibonacci()\n",
      "Call 31 of fibonacci()\n",
      "Call 32 of fibonacci()\n",
      "Call 33 of fibonacci()\n",
      "Call 34 of fibonacci()\n",
      "Call 35 of fibonacci()\n",
      "Call 36 of fibonacci()\n",
      "Call 37 of fibonacci()\n",
      "Call 38 of fibonacci()\n",
      "Call 39 of fibonacci()\n",
      "Call 40 of fibonacci()\n",
      "Call 41 of fibonacci()\n",
      "Call 42 of fibonacci()\n",
      "Call 43 of fibonacci()\n",
      "Call 44 of fibonacci()\n",
      "Call 45 of fibonacci()\n",
      "Call 46 of fibonacci()\n",
      "Call 47 of fibonacci()\n",
      "Call 48 of fibonacci()\n",
      "Call 49 of fibonacci()\n",
      "Call 50 of fibonacci()\n",
      "Call 51 of fibonacci()\n",
      "Call 52 of fibonacci()\n",
      "Call 53 of fibonacci()\n",
      "Call 54 of fibonacci()\n",
      "Call 55 of fibonacci()\n",
      "Call 56 of fibonacci()\n",
      "Call 57 of fibonacci()\n",
      "Call 58 of fibonacci()\n",
      "Call 59 of fibonacci()\n",
      "Call 60 of fibonacci()\n",
      "Call 61 of fibonacci()\n",
      "Call 62 of fibonacci()\n",
      "Call 63 of fibonacci()\n",
      "Call 64 of fibonacci()\n",
      "Call 65 of fibonacci()\n",
      "Call 66 of fibonacci()\n",
      "Call 67 of fibonacci()\n",
      "Call 68 of fibonacci()\n",
      "Call 69 of fibonacci()\n",
      "Call 70 of fibonacci()\n",
      "Call 71 of fibonacci()\n",
      "Call 72 of fibonacci()\n",
      "Call 73 of fibonacci()\n",
      "Call 74 of fibonacci()\n",
      "Call 75 of fibonacci()\n",
      "Call 76 of fibonacci()\n",
      "Call 77 of fibonacci()\n",
      "Call 78 of fibonacci()\n",
      "Call 79 of fibonacci()\n",
      "Call 80 of fibonacci()\n",
      "Call 81 of fibonacci()\n",
      "Call 82 of fibonacci()\n",
      "Call 83 of fibonacci()\n",
      "Call 84 of fibonacci()\n",
      "Call 85 of fibonacci()\n",
      "Call 86 of fibonacci()\n",
      "Call 87 of fibonacci()\n",
      "Call 88 of fibonacci()\n",
      "Call 89 of fibonacci()\n",
      "Call 90 of fibonacci()\n",
      "Call 91 of fibonacci()\n",
      "Call 92 of fibonacci()\n",
      "Call 93 of fibonacci()\n",
      "Call 94 of fibonacci()\n",
      "Call 95 of fibonacci()\n",
      "Call 96 of fibonacci()\n",
      "Call 97 of fibonacci()\n",
      "Call 98 of fibonacci()\n",
      "Call 99 of fibonacci()\n",
      "Call 100 of fibonacci()\n",
      "Call 101 of fibonacci()\n",
      "Call 102 of fibonacci()\n",
      "Call 103 of fibonacci()\n",
      "Call 104 of fibonacci()\n",
      "Call 105 of fibonacci()\n",
      "Call 106 of fibonacci()\n",
      "Call 107 of fibonacci()\n",
      "Call 108 of fibonacci()\n",
      "Call 109 of fibonacci()\n",
      "Call 110 of fibonacci()\n",
      "Call 111 of fibonacci()\n",
      "Call 112 of fibonacci()\n",
      "Call 113 of fibonacci()\n",
      "Call 114 of fibonacci()\n",
      "Call 115 of fibonacci()\n",
      "Call 116 of fibonacci()\n",
      "Call 117 of fibonacci()\n",
      "Call 118 of fibonacci()\n",
      "Call 119 of fibonacci()\n",
      "Call 120 of fibonacci()\n",
      "Call 121 of fibonacci()\n",
      "Call 122 of fibonacci()\n",
      "Call 123 of fibonacci()\n",
      "Call 124 of fibonacci()\n",
      "Call 125 of fibonacci()\n",
      "Call 126 of fibonacci()\n",
      "Call 127 of fibonacci()\n",
      "Call 128 of fibonacci()\n",
      "Call 129 of fibonacci()\n",
      "Call 130 of fibonacci()\n",
      "Call 131 of fibonacci()\n",
      "Call 132 of fibonacci()\n",
      "Call 133 of fibonacci()\n",
      "Call 134 of fibonacci()\n",
      "Call 135 of fibonacci()\n",
      "Call 136 of fibonacci()\n",
      "Call 137 of fibonacci()\n",
      "Call 138 of fibonacci()\n",
      "Call 139 of fibonacci()\n",
      "Call 140 of fibonacci()\n",
      "Call 141 of fibonacci()\n",
      "Call 142 of fibonacci()\n",
      "Call 143 of fibonacci()\n",
      "Call 144 of fibonacci()\n",
      "Call 145 of fibonacci()\n",
      "Call 146 of fibonacci()\n",
      "Call 147 of fibonacci()\n",
      "Call 148 of fibonacci()\n",
      "Call 149 of fibonacci()\n",
      "Call 150 of fibonacci()\n",
      "Call 151 of fibonacci()\n",
      "Call 152 of fibonacci()\n",
      "Call 153 of fibonacci()\n",
      "Call 154 of fibonacci()\n",
      "Call 155 of fibonacci()\n",
      "Call 156 of fibonacci()\n",
      "Call 157 of fibonacci()\n",
      "Call 158 of fibonacci()\n",
      "Call 159 of fibonacci()\n",
      "Call 160 of fibonacci()\n",
      "Call 161 of fibonacci()\n",
      "Call 162 of fibonacci()\n",
      "Call 163 of fibonacci()\n",
      "Call 164 of fibonacci()\n",
      "Call 165 of fibonacci()\n",
      "Call 166 of fibonacci()\n",
      "Call 167 of fibonacci()\n",
      "Call 168 of fibonacci()\n",
      "Call 169 of fibonacci()\n",
      "Call 170 of fibonacci()\n",
      "Call 171 of fibonacci()\n",
      "Call 172 of fibonacci()\n",
      "Call 173 of fibonacci()\n",
      "Call 174 of fibonacci()\n",
      "Call 175 of fibonacci()\n",
      "Call 176 of fibonacci()\n",
      "Call 177 of fibonacci()\n"
     ]
    },
    {
     "data": {
      "text/plain": [
       "55"
      ]
     },
     "execution_count": 94,
     "metadata": {},
     "output_type": "execute_result"
    }
   ],
   "source": [
    "import functools\n",
    "\n",
    "def count_calls(func):\n",
    "    @functools.wraps(func)\n",
    "    def wrapper_count_calls(*args, **kwargs):\n",
    "        wrapper_count_calls.num_calls += 1\n",
    "        print(f'Call {wrapper_count_calls.num_calls} of {func.__name__}()')\n",
    "        return func(*args, **kwargs)\n",
    "    wrapper_count_calls.num_calls = 0\n",
    "    return wrapper_count_calls\n",
    " \n",
    "@count_calls\n",
    "def fibonacci(num):\n",
    "    if num < 2:\n",
    "        return num\n",
    "    return fibonacci(num - 2) + fibonacci(num - 1)\n",
    "\n",
    "fibonacci(10)"
   ]
  },
  {
   "cell_type": "code",
   "execution_count": 95,
   "metadata": {},
   "outputs": [
    {
     "name": "stdout",
     "output_type": "stream",
     "text": [
      "Call 1 of fibonacci()\n",
      "Call 2 of fibonacci()\n",
      "Call 3 of fibonacci()\n",
      "Call 4 of fibonacci()\n",
      "Call 5 of fibonacci()\n",
      "Call 6 of fibonacci()\n",
      "Call 7 of fibonacci()\n",
      "Call 8 of fibonacci()\n",
      "Call 9 of fibonacci()\n",
      "Call 10 of fibonacci()\n",
      "Call 11 of fibonacci()\n"
     ]
    },
    {
     "data": {
      "text/plain": [
       "55"
      ]
     },
     "execution_count": 95,
     "metadata": {},
     "output_type": "execute_result"
    }
   ],
   "source": [
    "def cache(func):\n",
    "    \"\"\"Keep a cache of previous function calls\"\"\"\n",
    "    @functools.wraps(func)\n",
    "    def wrapper_cache(*args, **kwargs):\n",
    "        cache_key = args + tuple(kwargs.items())\n",
    "        if cache_key not in wrapper_cache.cache:\n",
    "            wrapper_cache.cache[cache_key] = func(*args, **kwargs)\n",
    "        return wrapper_cache.cache[cache_key]\n",
    "    wrapper_cache.cache = {}\n",
    "    return wrapper_cache\n",
    "\n",
    "@cache\n",
    "@count_calls\n",
    "def fibonacci(num):\n",
    "    if num < 2:\n",
    "        return num\n",
    "    return fibonacci(num - 1) + fibonacci(num - 2)\n",
    "\n",
    "fibonacci(10)"
   ]
  },
  {
   "cell_type": "code",
   "execution_count": 96,
   "metadata": {},
   "outputs": [
    {
     "data": {
      "text/plain": [
       "21"
      ]
     },
     "execution_count": 96,
     "metadata": {},
     "output_type": "execute_result"
    }
   ],
   "source": [
    "fibonacci(8)"
   ]
  },
  {
   "cell_type": "code",
   "execution_count": 97,
   "metadata": {},
   "outputs": [
    {
     "name": "stdout",
     "output_type": "stream",
     "text": [
      "Calculated fibonacci(1) = 1\n",
      "Calculated fibonacci(0) = 0\n",
      "Calculated fibonacci(2) = 1\n",
      "Calculated fibonacci(3) = 2\n",
      "Calculated fibonacci(4) = 3\n",
      "Calculated fibonacci(5) = 5\n",
      "Calculated fibonacci(6) = 8\n",
      "Calculated fibonacci(7) = 13\n",
      "Calculated fibonacci(8) = 21\n",
      "Calculated fibonacci(9) = 34\n",
      "Calculated fibonacci(10) = 55\n"
     ]
    },
    {
     "data": {
      "text/plain": [
       "55"
      ]
     },
     "execution_count": 97,
     "metadata": {},
     "output_type": "execute_result"
    }
   ],
   "source": [
    "@functools.lru_cache(maxsize=4)\n",
    "def fibonacci(num: int):\n",
    "    if num < 2:\n",
    "        value = num\n",
    "    else:\n",
    "        value = fibonacci(num - 1) + fibonacci(num - 2)\n",
    "    print(f\"Calculated fibonacci({num}) = {value}\")\n",
    "    return value\n",
    "\n",
    "\n",
    "fibonacci(10)"
   ]
  },
  {
   "cell_type": "code",
   "execution_count": 98,
   "metadata": {},
   "outputs": [
    {
     "data": {
      "text/plain": [
       "21"
      ]
     },
     "execution_count": 98,
     "metadata": {},
     "output_type": "execute_result"
    }
   ],
   "source": [
    "fibonacci(8)"
   ]
  },
  {
   "cell_type": "code",
   "execution_count": 99,
   "metadata": {},
   "outputs": [
    {
     "name": "stdout",
     "output_type": "stream",
     "text": [
      "Calculated fibonacci(1) = 1\n",
      "Calculated fibonacci(0) = 0\n",
      "Calculated fibonacci(2) = 1\n",
      "Calculated fibonacci(3) = 2\n",
      "Calculated fibonacci(4) = 3\n",
      "Calculated fibonacci(5) = 5\n"
     ]
    },
    {
     "data": {
      "text/plain": [
       "5"
      ]
     },
     "execution_count": 99,
     "metadata": {},
     "output_type": "execute_result"
    }
   ],
   "source": [
    "fibonacci(5)"
   ]
  },
  {
   "cell_type": "code",
   "execution_count": 100,
   "metadata": {},
   "outputs": [
    {
     "name": "stdout",
     "output_type": "stream",
     "text": [
      "Calculated fibonacci(6) = 8\n",
      "Calculated fibonacci(7) = 13\n",
      "Calculated fibonacci(8) = 21\n"
     ]
    },
    {
     "data": {
      "text/plain": [
       "21"
      ]
     },
     "execution_count": 100,
     "metadata": {},
     "output_type": "execute_result"
    }
   ],
   "source": [
    "fibonacci(8)"
   ]
  },
  {
   "cell_type": "code",
   "execution_count": 102,
   "metadata": {},
   "outputs": [
    {
     "data": {
      "text/plain": [
       "5"
      ]
     },
     "execution_count": 102,
     "metadata": {},
     "output_type": "execute_result"
    }
   ],
   "source": [
    "fibonacci(5)"
   ]
  },
  {
   "cell_type": "code",
   "execution_count": 103,
   "metadata": {},
   "outputs": [
    {
     "data": {
      "text/plain": [
       "CacheInfo(hits=17, misses=20, maxsize=4, currsize=4)"
      ]
     },
     "execution_count": 103,
     "metadata": {},
     "output_type": "execute_result"
    }
   ],
   "source": [
    "fibonacci.cache_info()"
   ]
  },
  {
   "cell_type": "markdown",
   "metadata": {},
   "source": [
    "### Adding Information About Units"
   ]
  },
  {
   "cell_type": "code",
   "execution_count": null,
   "metadata": {},
   "outputs": [],
   "source": [
    "def set_unit(unit):\n",
    "    def set_unit_wrapper(func):\n",
    "        func.unit = unit\n",
    "        return func\n",
    "    return set_unit_wrapper"
   ]
  },
  {
   "cell_type": "code",
   "execution_count": null,
   "metadata": {},
   "outputs": [],
   "source": [
    " "
   ]
  },
  {
   "cell_type": "markdown",
   "metadata": {
    "jp-MarkdownHeadingCollapsed": true
   },
   "source": [
    "## Getter and Setters"
   ]
  },
  {
   "cell_type": "markdown",
   "metadata": {},
   "source": []
  },
  {
   "cell_type": "code",
   "execution_count": 3,
   "metadata": {},
   "outputs": [],
   "source": [
    "class Label:\n",
    "    def __init__(self, text, font):\n",
    "        self._text = text\n",
    "        self._font = font\n",
    "\n",
    "    def get_text(self):\n",
    "        return self._text\n",
    "\n",
    "    def set_text(self, value):\n",
    "        self._text = value\n",
    "\n",
    "    def get_font(self):\n",
    "        return self._font\n",
    "\n",
    "    def set_font(self, value):\n",
    "        self._font = value"
   ]
  },
  {
   "cell_type": "code",
   "execution_count": 4,
   "metadata": {},
   "outputs": [],
   "source": [
    "label = Label(\"Fruits\", \"JetBrains Mono NL\")"
   ]
  },
  {
   "cell_type": "code",
   "execution_count": 9,
   "metadata": {},
   "outputs": [],
   "source": [
    "label._text = 'hello'"
   ]
  },
  {
   "cell_type": "code",
   "execution_count": 10,
   "metadata": {},
   "outputs": [
    {
     "data": {
      "text/plain": [
       "'hello'"
      ]
     },
     "execution_count": 10,
     "metadata": {},
     "output_type": "execute_result"
    }
   ],
   "source": [
    "label._text"
   ]
  },
  {
   "cell_type": "markdown",
   "metadata": {
    "jp-MarkdownHeadingCollapsed": true
   },
   "source": [
    "## Properties: Introducing Functionality to Attributes"
   ]
  },
  {
   "cell_type": "markdown",
   "metadata": {},
   "source": [
    "These notes are derived from [this](https://realpython.com/python-getter-setter/) Real Python article. Attributes can be manipulated in two ways:\n",
    "- directly\n",
    "- via *getter* and *setter* methods (requires non-public API)\n",
    "\n",
    "\n",
    "Rather than define our own getter/setter methods manually, we can use the `property` decorator.\n",
    "\n",
    "\n",
    "\n",
    "The following example sets `name` and `birth_date` as properties, and assigns them `setter` methods"
   ]
  },
  {
   "cell_type": "code",
   "execution_count": null,
   "metadata": {},
   "outputs": [],
   "source": [
    "from datetime import date\n",
    "\n",
    "class Employee:\n",
    "    def __init__(self, name, birth_date):\n",
    "        self.name = name\n",
    "        self.birth_date = birth_date\n",
    "\n",
    "    @property\n",
    "    def name(self):\n",
    "        return self._name\n",
    "\n",
    "    @name.setter\n",
    "    def name(self, value):\n",
    "        self._name = value.upper()\n",
    "\n",
    "    @property\n",
    "    def birth_date(self):\n",
    "        return self._birth_date\n",
    "\n",
    "    @birth_date.setter\n",
    "    def birth_date(self, value):\n",
    "        self._birth_date = date.fromisoformat(value)"
   ]
  },
  {
   "cell_type": "markdown",
   "metadata": {},
   "source": [
    "## Descriptors: Attributes with Attached Behaviors"
   ]
  },
  {
   "cell_type": "markdown",
   "metadata": {},
   "source": [
    "We can add to the previous example a new attribute, `start_date` and associated getter/setter methods:"
   ]
  },
  {
   "cell_type": "code",
   "execution_count": null,
   "metadata": {},
   "outputs": [],
   "source": [
    "from datetime import date\n",
    "\n",
    "class Employee:\n",
    "    def __init__(self, name, birth_date, start_date):\n",
    "        self.name = name\n",
    "        self.birth_date = birth_date\n",
    "        self.start_date = start_date\n",
    "\n",
    "    @property\n",
    "    def name(self):\n",
    "        return self._name\n",
    "\n",
    "    @name.setter\n",
    "    def name(self, value):\n",
    "        self._name = value.upper()\n",
    "\n",
    "    @property\n",
    "    def birth_date(self):\n",
    "        return self._birth_date\n",
    "\n",
    "    @birth_date.setter\n",
    "    def birth_date(self, value):\n",
    "        self._birth_date = date.fromisoformat(value)\n",
    "\n",
    "    @property\n",
    "    def start_date(self):\n",
    "        return self._start_date\n",
    "\n",
    "    @start_date.setter\n",
    "    def start_date(self, value):\n",
    "        self._start_date = date.fromisoformat(value)"
   ]
  },
  {
   "cell_type": "markdown",
   "metadata": {},
   "source": [
    "This seems repetitive so we can refactor the code and set up a `Date()` object since our attributes are setup the same way:"
   ]
  },
  {
   "cell_type": "code",
   "execution_count": null,
   "metadata": {},
   "outputs": [],
   "source": [
    "from datetime import date\n",
    "\n",
    "class Date:\n",
    "    def __set_name__(self, owner, name):\n",
    "        self._name = name\n",
    "\n",
    "    def __get__(self, instance, owner):\n",
    "        return instance.__dict__[self._name]\n",
    "\n",
    "    def __set__(self, instance, value):\n",
    "        instance.__dict__[self._name] = date.fromisoformat(value)\n",
    "\n",
    "class Employee:\n",
    "    birth_date = Date()\n",
    "    start_date = Date()\n",
    "\n",
    "    def __init__(self, name, birth_date, start_date):\n",
    "        self.name = name\n",
    "        self.birth_date = birth_date\n",
    "        self.start_date = start_date\n",
    "\n",
    "    @property\n",
    "    def name(self):\n",
    "        return self._name\n",
    "\n",
    "    @name.setter\n",
    "    def name(self, value):\n",
    "        self._name = value.upper()"
   ]
  },
  {
   "cell_type": "code",
   "execution_count": null,
   "metadata": {},
   "outputs": [],
   "source": []
  }
 ],
 "metadata": {
  "kernelspec": {
   "display_name": "Python 3 (ipykernel)",
   "language": "python",
   "name": "python3"
  },
  "language_info": {
   "codemirror_mode": {
    "name": "ipython",
    "version": 3
   },
   "file_extension": ".py",
   "mimetype": "text/x-python",
   "name": "python",
   "nbconvert_exporter": "python",
   "pygments_lexer": "ipython3",
   "version": "3.13.5"
  }
 },
 "nbformat": 4,
 "nbformat_minor": 4
}
