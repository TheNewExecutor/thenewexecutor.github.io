{
 "cells": [
  {
   "cell_type": "markdown",
   "metadata": {},
   "source": [
    "# Multivariate Statistics"
   ]
  },
  {
   "cell_type": "markdown",
   "metadata": {},
   "source": [
    "Expectation value and variance have clear definitions for scalar quantities, but what about the analogous definitions for vectors and matrices?\n",
    "\n",
    "## Random Scalars\n",
    "\n",
    "For a given random variable $X$, with probability distribution $f(x)$ we have the following definitions:\n",
    "\n",
    "**Expectation Value**: \n",
    "\n",
    "$$E(X) = \\int^\\infty_{-\\infty} xf(x)dx = \\mu$$\n",
    "\n",
    "\n",
    "**Variance**:\n",
    "\n",
    "$$V(X) = E\\Big([X-E(X)]^2\\Big) = E(X^2) - \\mu^2$$\n",
    "**Covariance**:\n",
    "\n",
    "$$Cov(X, Y) = E\\Big([X-E(X)][Y-E(Y)]\\Big) = E(XY) - \\mu_X\\mu_Y$$\n",
    "\n",
    "$$Cov(aX, bY) = E\\Big([aX-aE(X)][bY-bE(Y)]\\Big) = abE(XY) - a\\mu_Xb\\mu_Y = abCov(X,Y)$$"
   ]
  },
  {
   "cell_type": "markdown",
   "metadata": {},
   "source": [
    "## Random Vectors\n",
    "\n",
    "For a given random vector $X = \n",
    "\\begin{pmatrix}\n",
    "X_i\\\\\n",
    "\\vdots \\\\\n",
    "X_n\\\\\n",
    "\\end{pmatrix}\n",
    "$\n",
    "\n",
    "**Expectation Value**:\n",
    "$$E(X) = \\begin{pmatrix}\n",
    "E(X_i)\\\\\n",
    "\\vdots \\\\\n",
    "E(X_n)\\\\\n",
    "\\end{pmatrix}\n",
    "$$\n",
    "\n",
    "**Variance**: The variance of a random vector $X$ with expectation $\\mu$ is defined to be a matrix $\\Sigma$ whose elements are given by $$\\Sigma_{ij} = E([X-\\mu][X-\\mu]^T)_{ij} = E([X-\\mu]_i[X-\\mu]_j)$$\n",
    "\n",
    "where the subscript $T$ denotes the transpose of a vector. The diagonal elements are variances whereas the off-diagonal elements are covariances:\n",
    "\n",
    "\n",
    "$$Var(X) = \\begin{pmatrix}\n",
    "V(X_1) & Cov(X_1, X_2) &\\dots & Cov(X_1,X_n)\\\\\n",
    "Cov(X_2,X_1) & V(X_2) & \\dots  & Cov(X_2,X_n) \\\\\n",
    "\\vdots & \\dots & \\ddots & \\vdots \\\\\n",
    "Cov(X_n,X_1) & Cov(X_n, X_2) & \\dots & V(X_n)\\\\\n",
    "\\end{pmatrix}\n",
    "$$\n",
    "\n",
    "\n"
   ]
  },
  {
   "cell_type": "markdown",
   "metadata": {},
   "source": [
    "# Useful Relations\n",
    "\n",
    "## Expectation is a Linear Operator\n",
    "\n",
    "For a scalar $a$ and random variable $X$:\n",
    "\n",
    "$$\\begin{align} E(aX) &= \\int^\\infty_{-\\infty} axf(x)dx =  a\\int^\\infty_{-\\infty} xf(x)dx \\\\ &= a E(X)\\\\&= a\\mu \\end{align}$$\n",
    "\n",
    "\n",
    "Given vectors $a$ and $X$ of length $n$, the expectation of their scalar product $E(a^T X) = E(X^Ta)$ is given by:\n",
    "\n",
    "$$E(a^TX) = E\\Big(\\sum^n_{i=1} a_iX_i\\Big) = \\sum^n_{i=1} E(a_iX_i) = \\sum^n_{i=1} a_iE(X_i) = a^TE(X)$$\n",
    "$$E(X^Ta) = E\\Big(\\sum^n_{i=1} X_ia_i\\Big) = \\sum^n_{i=1} E(X_ia_i) = \\sum^n_{i=1} E(X_i)a_i = E(X^T)a$$\n",
    "\n",
    "Given a matrix $A$ acting on vector $X$, the expectation of their product $E(AX)$ is given by:\n",
    "\n",
    "$$E(AX)_{ij} = E\\Big( \\sum_{k} A_{ik}X_{kj}  \\Big) = \\sum_{k} E(A_{ik}X_{kj}) = \\sum_{k} A_{ik}E(X_{kj}) = AE(X)_{ij}$$\n",
    "\n",
    "which implies \n",
    "$$ E(AX) = A\\mu$$\n",
    "\n",
    "Similarly: \n",
    "\n",
    "\n",
    "$$E(XA)_{ij} = E\\Big( \\sum_{k} X_{ik}A_{kj}  \\Big) = \\sum_{k} E(X_{ik}A_{kj}) = \\sum_{k} E(X_{ik})A_{kj} = (E(X)A)_{ij}$$\n",
    "\n",
    "which implies\n",
    "$$E(XA) = \\mu A$$"
   ]
  },
  {
   "cell_type": "markdown",
   "metadata": {},
   "source": [
    "## Constants Get Squared in Variance \n",
    "\n",
    "For a scalar $a$ and random variable $X$:\n",
    "\n",
    "$$\\begin{align}V(aX) &= E\\Big([aX-E(aX)]^2\\Big) = E((aX)^2) - (a\\mu)^2 = a^2(E(X^2) - \\mu^2) \\\\ &= a^2V(X)\\end{align}$$\n",
    "\n",
    "For matrix $A$ acting on vector $X$, the variance $V(AX)$ is given by:\n",
    "\n",
    "$$\\begin{align} V(AX) &= E\\Big(\\big[AX - A\\mu\\big]\\big[AX - A\\mu\\big]^T\\Big) \\\\ &= E\\Big(\\big[A(X - \\mu)\\big]\\big[A(X - \\mu)\\big]^T\\Big)\\\\ &= \n",
    "E\\Big(\\big[A(X - \\mu)\\big]\\big[(X - \\mu)^TA^T\\big]\\Big)\\\\ &= AE\\Big((X-\\mu)(X-\\mu)^T\\Big)A^T\\\\ &= A\\Sigma A^T \\end{align}$$"
   ]
  },
  {
   "cell_type": "markdown",
   "metadata": {
    "collapsed": true
   },
   "source": [
    "## Variance of a Sum"
   ]
  },
  {
   "cell_type": "markdown",
   "metadata": {},
   "source": [
    "Given random variables $X$ and $Y$ and their respective means $\\mu_X$ and $\\mu_Y$:\n",
    "\n",
    "$$ \\begin{align}\n",
    "Var(X + Y) &= E(X + Y - \\mu_X - \\mu_Y)^2\\\\\n",
    "&= E\\big[(X-\\mu_X)^2 + (Y-\\mu_Y)^2 + 2(X-\\mu_X)(Y-\\mu_Y)\\big]\\\\\n",
    "&= Var(X) + Var(Y) + 2Cov(X,Y)\\\\\n",
    "\\end{align}$$\n",
    "\n",
    "With constants in the mix, this becomes:\n",
    "\n",
    "$$ \\begin{align}\n",
    "Var(aX + bY) &=  Var(aX) + Var(bY) + 2Cov(aX,bY)\\\\\n",
    "&= a^2Var(X) + b^2Var(Y) + 2abCov(X,Y)\\\\\n",
    "\\end{align}$$\n",
    "\n",
    "This is especially helpful to understand variances of differences, or when coefficients are negative in general."
   ]
  },
  {
   "cell_type": "markdown",
   "metadata": {
    "collapsed": true
   },
   "source": [
    "## Expectation of a Quadratic Form"
   ]
  },
  {
   "cell_type": "markdown",
   "metadata": {},
   "source": [
    "Given a random vector $\\mathbf{y}$ of size $n$ mean $\\mathbf{\\mu}$, and covariance matrix $Var(\\mathbf{y})=\\Sigma$, the expectation of the product $\\mathbf{y}^T\\mathbf{A}\\mathbf{y}$ can be found by looking at the expectation of each matrix element.\n",
    "\n",
    "The matrix elements of a product of the matrices $\\mathbf{ABC}$ can be expressed as:\n",
    "\n",
    "$$\\begin{align}\n",
    "(\\mathbf{ABC})_{ij} &= \\sum_{k}(\\mathbf{AB})_{ik}c_{kj}\\\\\n",
    "&= \\sum_{k}(\\mathbf{AB})_{ik}c_{kj}\\\\\n",
    "&= \\sum_{k} \\big(\\sum_{l} a_{il}b_{lk}\\big)c_{kj}\\\\ \n",
    "&= \\sum_{k} \\sum_{l} a_{il}b_{lk}c_{kj}\\\\ \n",
    "\\end{align}\n",
    "$$"
   ]
  },
  {
   "cell_type": "markdown",
   "metadata": {},
   "source": [
    "In the quadratic form $\\mathbf{y}^T\\mathbf{A}\\mathbf{y}$, the row index $i$ of $\\mathbf{y}^T$, a row vector and the column index of $\\mathbf{y}$, a column vector, are both restricted to 1. If we ommit them, the elements of the quadratic form are given by:\n",
    "\n",
    "$$\\begin{align}\n",
    "(\\mathbf{y}^T\\mathbf{A}\\mathbf{y})_{ij} &= \\sum_{k} \\sum_{l} y_{l}a_{lk}y_{k}\\\\\n",
    "&= \\sum_{k} \\sum_{l} y_{l}y_{k}a_{lk}\\\\ \n",
    "\\end{align}$$\n"
   ]
  },
  {
   "cell_type": "markdown",
   "metadata": {},
   "source": [
    "Remembering the definition of covariance, and the assumption of independent observations, we can look at expectation value element-wise:\n",
    "\n",
    "$$\\begin{align}\n",
    "E(\\mathbf{y}^T\\mathbf{A}\\mathbf{y})_{ij} &= E\\big(\\sum_{k}\\sum_{l} y_{l}y_{k}a_{lk}\\big)\\\\\n",
    "&= \\sum_{k}\\sum_{l} E(y_{l}y_{k})a_{lk}\\\\\n",
    "&= \\sum_{k}\\sum_{l} \\big(Cov(y_{l},y_{k}) + \\mu_l\\mu_k\\big)a_{lk}\\\\\n",
    "&= \\sum_{k}\\sum_{l} Cov(y_{l},y_{k})a_{lk} + \\sum_{k}\\sum_{l}\\mu_la_{lk}\\mu_k\\\\\n",
    "&= \\sum_{k}\\sum_{l} Var(y)_{lk}a_{lk} + \\sum_{k}\\sum_{l}\\mu_la_{lk}\\mu_k\\\\\n",
    "&= \\sum_{k}\\sum_{l} Var(y)_{kl}a_{lk} + \\sum_{k}\\sum_{l}\\mu_la_{lk}\\mu_k\\tag{symmetry of cov matrix}\\\\\n",
    "&= \\sum_{i} Var(y)_{ii}a_{ii} + \\sum_{k}\\sum_{l}\\mu_la_{lk}\\mu_k \\tag{independent observations/diagonal matrix}\\\\\n",
    "&= trace(\\Sigma \\mathbf{A}) + \\big(\\mathbf{\\mu}^T\\mathbf{A}\\mathbf{\\mu}\\big)_{lk}\\\\\n",
    "\\end{align}$$\n",
    "\n",
    "Thus, on the matrix level we have:\n",
    "$$\\begin{align}\n",
    "E(\\mathbf{y}^T\\mathbf{A}\\mathbf{y}) &= trace(\\Sigma \\mathbf{A}) + \\mathbf{\\mu}^T\\mathbf{A}\\mathbf{\\mu}\\\\\n",
    "\\end{align}$$\n",
    "\n"
   ]
  },
  {
   "cell_type": "markdown",
   "metadata": {},
   "source": [
    "## Multivariate Gaussian"
   ]
  },
  {
   "cell_type": "markdown",
   "metadata": {},
   "source": [
    "The multivariate Gaussian distribution appears often and has the probability density function:\n",
    "\n",
    "$$f(x) = \\dfrac{1}{(2\\pi)^{p/2}|\\Sigma|^{1/2}} \\exp\\Big[-\\frac{1}{2}(x-\\mu)^T\\Sigma^{-1}(x-\\mu)\\Big]$$\n",
    "\n",
    "where $x$ is a $p$-dimensional random vector, $\\mu = E(x)$, $\\Sigma$ is the covariance matrix and $|\\Sigma|$ is the determinant of $\\Sigma$."
   ]
  },
  {
   "cell_type": "markdown",
   "metadata": {},
   "source": [
    "**Useful Theorem Results:**\n",
    "\n",
    "1. If $Z\\sim N(0,1)$ and $x = \\mu + \\Sigma^{1/2}Z$, then $x\\sim N(\\mu,\\Sigma)$.\n",
    "\n",
    "\n",
    "2. If $x \\sim N(\\mu,\\Sigma)$, then $\\Sigma^{-1/2}(x-\\mu)\\sim N(0,1)$\n",
    "\n",
    "\n",
    "3. If $x\\sim N(\\mu, \\Sigma)$ and $a$ is a vector of same length as $x$, then $a^Tx \\sim N(a^T\\mu, a^T\\Sigma a)$.\n",
    "\n",
    "\n",
    "4. Let $ V = (x-\\mu)^T\\Sigma^{-1}(x-\\mu)$. Then $V \\sim \\chi^2_p$"
   ]
  },
  {
   "cell_type": "code",
   "execution_count": 29,
   "metadata": {},
   "outputs": [
    {
     "data": {
      "image/png": "[encoded data removed]",
      "text/plain": [
       "<Figure size 640x480 with 1 Axes>"
      ]
     },
     "metadata": {},
     "output_type": "display_data"
    }
   ],
   "source": [
    "import numpy as np\n",
    "import matplotlib.pyplot as plt\n",
    "\n",
    "mean = (1, 2)\n",
    "diag = .6\n",
    "cov = [[1, diag], [diag, 1]]\n",
    "x = np.random.multivariate_normal(mean=mean,cov=cov, size=800)\n",
    "x.shape\n",
    "\n",
    "plt.plot(x[:, 0], x[:, 1], '.', alpha=0.5)\n",
    "plt.axis('equal')\n",
    "plt.grid()\n",
    "plt.show()"
   ]
  },
  {
   "cell_type": "code",
   "execution_count": 30,
   "metadata": {},
   "outputs": [
    {
     "data": {
      "text/plain": [
       "(800, 2)"
      ]
     },
     "execution_count": 30,
     "metadata": {},
     "output_type": "execute_result"
    }
   ],
   "source": [
    "x.shape"
   ]
  },
  {
   "cell_type": "markdown",
   "metadata": {},
   "source": [
    "### KL Divergence for Guassian Distributions"
   ]
  },
  {
   "cell_type": "markdown",
   "metadata": {},
   "source": [
    "One useful is the Kullback-Leibler divergence, $D_{KL}$, a metric for comparing two probability distributions, between two Guassians, which we now show here.\n",
    "\n",
    "Recall that the KL is given by $$D_{KL}(P||Q) = E_P \\Big[\\log \\frac{P}{Q}\\Big]$$\n",
    "\n",
    "Let $P$ and $Q$ be two multivariate Gaussians of dimension $n$ with means $\\mu_P, \\mu_Q$ and variances $\\Sigma_P, \\Sigma_Q$, respectively. We begin to find the $D_{KL}$ between these two starting off by cancelling the common normalizing constants, flipping the inverse determinants, and turning the logarithm of a fraction into a difference of logarithms, cancelling out the exponentials in the process:\n",
    "\n",
    "$$\\begin{align}\n",
    "D_{KL}(P||Q) &= E_P\\Bigg[\\log\\Big[\\frac{\\dfrac{1}{(2\\pi)^{n/2}|\\Sigma_P|^{1/2}} \\exp\\big[-\\frac{1}{2}(x-\\mu_P)^T\\Sigma_P^{-1}(x-\\mu_P)\\big]}{\\dfrac{1}{(2\\pi)^{n/2}|\\Sigma_Q|^{1/2}} \\exp\\big[-\\frac{1}{2}(x-\\mu_Q)^T\\Sigma_Q^{-1}(x-\\mu_Q)\\big]}\\Big]\\Bigg]\\\\\n",
    "            &= E_P\\Bigg[\\log\\Big[\\frac{|\\Sigma_Q|^{1/2} \\exp\\big[-\\frac{1}{2}(x-\\mu_P)^T\\Sigma_P^{-1}(x-\\mu_P)\\big]}{|\\Sigma_P|^{1/2} \\exp\\big[-\\frac{1}{2}(x-\\mu_Q)^T\\Sigma_Q^{-1}(x-\\mu_Q)\\big]}\\Big]\\Bigg]\\\\\n",
    "            &= E_P\\Big[\\frac{1}{2}\\log \\frac{|\\Sigma_Q|}{|\\Sigma_P|}  -\\frac{1}{2}(x-\\mu_P)^T\\Sigma_P^{-1}(x-\\mu_P) + \\frac{1}{2}(x-\\mu_Q)^T\\Sigma_Q^{-1}(x-\\mu_Q)\\Big] \\\\\n",
    "            &= \\frac{1}{2}\\log \\frac{|\\Sigma_Q|}{|\\Sigma_P|} + \\frac{1}{2}E_P\\Big[-(x-\\mu_P)^T\\Sigma_P^{-1}(x-\\mu_P) + (x-\\mu_Q)^T\\Sigma_Q^{-1}(x-\\mu_Q)\\Big]\\\\\n",
    "     &=\\frac{1}{2}\\log \\frac{|\\Sigma_Q|}{|\\Sigma_P|} + \\frac{1}{2}\\Big[-trace(\n",
    "     \\Sigma_P\\Sigma_P^{-1}) + trace(\\Sigma_Q\\Sigma_P^{-1}) + (\\mu_P-\\mu_Q)^T\\Sigma_Q^{-1}(\\mu_P-\\mu_Q)\\Big]\\\\\n",
    "     &=\\frac{1}{2}\\log \\frac{|\\Sigma_Q|}{|\\Sigma_P|} + \\frac{1}{2}\\Big[-n + trace(\\Sigma_Q\\Sigma_P^{-1}) + (\\mu_P-\\mu_Q)^T\\Sigma_Q^{-1}(\\mu_P-\\mu_Q)\\Big]\\\\\n",
    "     &= \\frac{1}{2}\\Bigg[\\log \\frac{|\\Sigma_Q|}{|\\Sigma_P|}  -n + trace(\\Sigma_Q\\Sigma_P^{-1}) + (\\mu_P-\\mu_Q)^T\\Sigma_Q^{-1}(\\mu_P-\\mu_Q)\\Bigg]\\\\\n",
    "\\end{align}     \n",
    "$$\n",
    "\n"
   ]
  },
  {
   "cell_type": "markdown",
   "metadata": {},
   "source": [
    "In our derivation, we used the expectation of quadratic forms results from before, $E(\\mathbf{y}^T\\mathbf{A}\\mathbf{y}) = trace(\\Sigma \\mathbf{A}) + \\mathbf{\\mu}^T\\mathbf{A}\\mathbf{\\mu}$, with the vectors $y = x - \\mu_i$, matrix $\\mathbf{A} =\\Sigma_i^{-1}$ and expectations, $E_P(x) = \\mu_P$, $E_P(x - \\mu_P) = 0$ and $E_P(x-\\mu_Q)$."
   ]
  },
  {
   "cell_type": "code",
   "execution_count": null,
   "metadata": {},
   "outputs": [],
   "source": []
  }
 ],
 "metadata": {
  "kernelspec": {
   "display_name": "Python 3 (ipykernel)",
   "language": "python",
   "name": "python3"
  },
  "language_info": {
   "codemirror_mode": {
    "name": "ipython",
    "version": 3
   },
   "file_extension": ".py",
   "mimetype": "text/x-python",
   "name": "python",
   "nbconvert_exporter": "python",
   "pygments_lexer": "ipython3",
   "version": "3.11.3"
  }
 },
 "nbformat": 4,
 "nbformat_minor": 2
}
